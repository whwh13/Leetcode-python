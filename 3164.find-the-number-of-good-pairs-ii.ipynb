{
 "cells": [
  {
   "cell_type": "markdown",
   "metadata": {},
   "source": [
    "## [3164. 优质数对的总数 II](https://example.com/problems/find-the-number-of-good-pairs-ii/)\n",
    "\n",
    "给你两个整数数组 `nums1` 和 `nums2`，长度分别为 `n` 和 `m`。同时给你一个**正整数** `k`。\n",
    "\n",
    "如果 `nums1[i]` 可以被 `nums2[j] * k` 整除，则称数对 `(i, j)` 为 **优质数对**（`0 <= i <= n - 1`, `0 <= j <= m - 1`）。\n",
    "\n",
    "返回**优质数对**的总数。\n",
    "\n",
    "### 示例 1：\n",
    "\n",
    "**输入：**\n",
    "```\n",
    "nums1 = [1,3,4], nums2 = [1,3,4], k = 1\n",
    "```\n",
    "**输出：**\n",
    "```\n",
    "5\n",
    "```\n",
    "**解释：**\n",
    "5个优质数对分别是 `(0, 0)`, `(1, 0)`, `(1, 1)`, `(2, 0)`, 和 `(2, 2)`。\n",
    "\n",
    "### 示例 2：\n",
    "\n",
    "**输入：**\n",
    "```\n",
    "nums1 = [1,2,4,12], nums2 = [2,4], k = 3\n",
    "```\n",
    "**输出：**\n",
    "```\n",
    "2\n",
    "```\n",
    "**解释：**\n",
    "2个优质数对分别是 `(3, 0)` 和 `(3, 1)`。\n",
    "\n",
    "### 提示：\n",
    "\n",
    "- `1 <= n, m <= 10^5`\n",
    "- `1 <= nums1[i], nums2[j] <= 10^6`\n",
    "- `1 <= k <= 10^3`\n"
   ]
  },
  {
   "cell_type": "markdown",
   "metadata": {},
   "source": [
    "和上面3163一样的情况，区别在于数值变大数量变多了"
   ]
  },
  {
   "cell_type": "code",
   "execution_count": 1,
   "metadata": {},
   "outputs": [
    {
     "ename": "SyntaxError",
     "evalue": "incomplete input (4105519989.py, line 5)",
     "output_type": "error",
     "traceback": [
      "\u001b[0;36m  Cell \u001b[0;32mIn[1], line 5\u001b[0;36m\u001b[0m\n\u001b[0;31m    def numberOfPairs(self, nums1: List[int], nums2: List[int], k: int) -> int:\u001b[0m\n\u001b[0m                                                                               ^\u001b[0m\n\u001b[0;31mSyntaxError\u001b[0m\u001b[0;31m:\u001b[0m incomplete input\n"
     ]
    }
   ],
   "source": [
    "from typing import List\n",
    "\n",
    "\n",
    "class Solution:\n",
    "    def numberOfPairs(self, nums1: List[int], nums2: List[int], k: int) -> int:\n",
    "        ans = 0\n",
    "        for i in range(len(nums1)):\n",
    "            if nums1[i]%k:\n",
    "                continue\n",
    "            for j in range(len(nums2)):\n",
    "                if not nums1[i]%(nums2[j]*k):\n",
    "                    ans += 1\n",
    "        return ans"
   ]
  },
  {
   "cell_type": "markdown",
   "metadata": {},
   "source": [
    "首先将上面的代码直接复制并提交，很明显会超出时间限制，但是682/687通过表示代码还是有可为的"
   ]
  },
  {
   "cell_type": "markdown",
   "metadata": {},
   "source": [
    "但是很难整体把握算法的改进，我能想到的只有双循环，而双循环很明显是O(n^2)"
   ]
  },
  {
   "cell_type": "code",
   "execution_count": null,
   "metadata": {},
   "outputs": [],
   "source": [
    "from typing import List\n",
    "\n",
    "\n",
    "class Solution:\n",
    "    def numberOfPairs(self, nums1: List[int], nums2: List[int], k: int) -> int:\n"
   ]
  },
  {
   "cell_type": "markdown",
   "metadata": {},
   "source": [
    "看了题解都有点没看懂"
   ]
  }
 ],
 "metadata": {
  "kernelspec": {
   "display_name": "Python 3",
   "language": "python",
   "name": "python3"
  },
  "language_info": {
   "codemirror_mode": {
    "name": "ipython",
    "version": 3
   },
   "file_extension": ".py",
   "mimetype": "text/x-python",
   "name": "python",
   "nbconvert_exporter": "python",
   "pygments_lexer": "ipython3",
   "version": "3.12.1"
  }
 },
 "nbformat": 4,
 "nbformat_minor": 2
}
