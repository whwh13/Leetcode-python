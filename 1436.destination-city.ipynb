{
 "cells": [
  {
   "cell_type": "markdown",
   "metadata": {},
   "source": [
    "## [1436. 旅行终点站](https://example.com/problems/destination-city/)\n",
    "\n",
    "给你一份旅游线路图，该线路图中的旅行线路用数组 `paths` 表示，其中 `paths[i] = [cityAᵢ, cityBᵢ]` 表示该线路将会从 `cityAᵢ` 直接前往 `cityBᵢ`。请你找出这次旅行的终点站，即没有任何可以通往其他城市的线路的城市。\n",
    "\n",
    "题目数据保证线路图会形成一条不存在循环的线路，因此恰有一个旅行终点站。\n",
    "\n",
    "### 示例 1：\n",
    "\n",
    "**输入：**\n",
    "```\n",
    "paths = [[\"London\",\"New York\"],[\"New York\",\"Lima\"],[\"Lima\",\"Sao Paulo\"]]\n",
    "```\n",
    "**输出：**\n",
    "```\n",
    "\"Sao Paulo\"\n",
    "```\n",
    "**解释：**\n",
    "从 \"London\" 出发，最后抵达终点站 \"Sao Paulo\"。本次旅行的路线是 \"London\" -> \"New York\" -> \"Lima\" -> \"Sao Paulo\"。\n",
    "\n",
    "### 示例 2：\n",
    "\n",
    "**输入：**\n",
    "```\n",
    "paths = [[\"B\",\"C\"],[\"D\",\"B\"],[\"C\",\"A\"]]\n",
    "```\n",
    "**输出：**\n",
    "```\n",
    "\"A\"\n",
    "```\n",
    "**解释：**\n",
    "所有可能的线路是：\n",
    "\"D\" -> \"B\" -> \"C\" -> \"A\".  \n",
    "\"B\" -> \"C\" -> \"A\".  \n",
    "\"C\" -> \"A\".  \n",
    "\"A\"。  \n",
    "显然，旅行终点站是 \"A\"。\n",
    "\n",
    "### 示例 3：\n",
    "\n",
    "**输入：**\n",
    "```\n",
    "paths = [[\"A\",\"Z\"]]\n",
    "```\n",
    "**输出：**\n",
    "```\n",
    "\"Z\"\n",
    "```\n",
    "\n",
    "### 提示：\n",
    "\n",
    "- `1 <= paths.length <= 100`\n",
    "- `paths[i].length == 2`\n",
    "- `1 <= cityAᵢ.length, cityBᵢ.length <= 10`\n",
    "- `cityAᵢ != cityBᵢ`\n",
    "- 所有字符串均由大小写英文字母和空格字符组成。\n"
   ]
  },
  {
   "cell_type": "markdown",
   "metadata": {},
   "source": [
    "比较暴力的方法是，将起点终点分别全列出来，找没有起点对应的终点即可\n",
    "但是这样太暴力了，有没有更好的方法呢 O(n^2)\n",
    "\n",
    "起点和终点都是可能重复的\n",
    "\n",
    "遍历过程中\n",
    "创建一个hash表，存放起点城市\n",
    "同时对于终点城市，如果在表中查到相同城市，不用管。查不到就放到一个新表中\n",
    "\n",
    "遍历结束后对新表再遍历一次\n",
    "不对，就算是hash表，也是要遍历的啊\n",
    "O(n)"
   ]
  },
  {
   "cell_type": "code",
   "execution_count": 9,
   "metadata": {},
   "outputs": [],
   "source": [
    "from typing import List\n",
    "\n",
    "\n",
    "class Solution:\n",
    "    def destCity(self, paths: List[List[str]]) -> str:\n",
    "        tab = set()\n",
    "        endPaths = []\n",
    "        for path in paths:\n",
    "            tab.add(path[0])\n",
    "            if path[1] in tab:\n",
    "                continue\n",
    "            else:\n",
    "                endPaths += [path[1]]\n",
    "        for endPath in endPaths:\n",
    "            if endPath in tab:\n",
    "                continue\n",
    "            else:\n",
    "                return endPath"
   ]
  },
  {
   "cell_type": "code",
   "execution_count": 10,
   "metadata": {},
   "outputs": [],
   "source": [
    "paths = [[\"London\",\"New York\"],[\"New York\",\"Lima\"],[\"Lima\",\"Sao Paulo\"]]"
   ]
  },
  {
   "cell_type": "code",
   "execution_count": 11,
   "metadata": {},
   "outputs": [
    {
     "name": "stdout",
     "output_type": "stream",
     "text": [
      "Sao Paulo\n"
     ]
    }
   ],
   "source": [
    "print(Solution().destCity(paths))"
   ]
  },
  {
   "cell_type": "markdown",
   "metadata": {},
   "source": [
    "题解中用的是将start全部放到一个hash表中，然后依次查找end在不在其中\n",
    "\n",
    "貌似题解的思路比我好，因为我中间的查找，有点浪费"
   ]
  }
 ],
 "metadata": {
  "kernelspec": {
   "display_name": "Python 3",
   "language": "python",
   "name": "python3"
  },
  "language_info": {
   "codemirror_mode": {
    "name": "ipython",
    "version": 3
   },
   "file_extension": ".py",
   "mimetype": "text/x-python",
   "name": "python",
   "nbconvert_exporter": "python",
   "pygments_lexer": "ipython3",
   "version": "3.12.1"
  }
 },
 "nbformat": 4,
 "nbformat_minor": 2
}
