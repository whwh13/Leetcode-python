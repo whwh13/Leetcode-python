{
 "cells": [
  {
   "cell_type": "markdown",
   "metadata": {},
   "source": [
    "### [1014. 最佳观光组合](https://leetcode.com/problems/best-sightseeing-pair/)\n",
    "\n",
    "给你一个正整数数组 `values`，其中 `values[i]` 表示第 `i` 个观光景点的评分，并且两个景点 `i` 和 `j` 之间的 **距离** 为 `j - i`。\n",
    "\n",
    "一对景点（`i < j`）组成的观光组合的得分为 `values[i] + values[j] + i - j`，也就是景点的评分之和**减去**它们两者之间的距离。\n",
    "\n",
    "返回一对观光景点能取得的最高分。\n",
    "\n",
    "#### 示例 1：\n",
    "\n",
    "**输入：** values = [8,1,5,2,6]  \n",
    "**输出：** 11  \n",
    "**解释：** i = 0, j = 2, values[i] + values[j] + i - j = 8 + 5 + 0 - 2 = 11\n",
    "\n",
    "#### 示例 2：\n",
    "\n",
    "**输入：** values = [1,2]  \n",
    "**输出：** 2\n",
    "\n",
    "#### 提示：\n",
    "\n",
    "- `2 <= values.length <= 5 * 10^4`\n",
    "- `1 <= values[i] <= 1000`\n"
   ]
  },
  {
   "cell_type": "markdown",
   "metadata": {},
   "source": [
    "### 解题思考\n",
    "一个直觉是如果从两侧分别向中间移动，直到相遇，这种情况下应该能找到最大的结果\n",
    "或者说，记录偏移量数据，以左为例，left_value - 偏移量 和 value[left+偏移量] 进行对比。这表示的是\n",
    "不对不对\n",
    "\n",
    "也对也对\n",
    "这样就是对于每个left值只遍历其后面的\n",
    "下面的matlab代码好像也是O(n^2)\n",
    "```matlab\n",
    "max_value = 0\n",
    "for i = 1:n-1\n",
    "    right_now = i+1\n",
    "    right_offset = 1\n",
    "    right_value = list(right_now)-right_offset \n",
    "    for right = i+1:n\n",
    "        if list(right)-right_offset > right_value\n",
    "            right_value = list(right)-right_offset\n",
    "        right_offset = right_offset+1\n",
    "    max_value = max(right_value+list(left),max_value)\n",
    "end\n",
    "```\n",
    "## \n",
    "学到一个知识，python中在两个地方使用class会将前面的覆盖"
   ]
  },
  {
   "cell_type": "code",
   "execution_count": 1,
   "metadata": {},
   "outputs": [],
   "source": [
    "from typing import List\n",
    "\n",
    "class Solution:\n",
    "    def pointedLeft(self, values: List[int], left_point: int) -> int:\n",
    "        n = len(values)\n",
    "        ans = values[left_point + 1] - 1\n",
    "        for offset in range(1, len(values)):\n",
    "            if left_point + offset == n:\n",
    "                return ans\n",
    "            ans = max(ans, values[left_point + offset] - offset)\n",
    "        return ans\n",
    "    \n",
    "    def maxScoreSightseeingPair(self, values: List[int]) -> int:\n",
    "        ans = 0\n",
    "        for left in range(len(values)-1):\n",
    "            ans0 = self.pointedLeft(values,left)\n",
    "            ans = max(ans,ans0+values[left])\n",
    "        return ans\n"
   ]
  },
  {
   "cell_type": "markdown",
   "metadata": {},
   "source": [
    "### 问题 超出时间限制\n",
    "这种方法还是太过暴力了，从算法上优化\n",
    "\n",
    "当某次left固定寻找最佳right的过程中，对于最优的right，其右侧的值对于任意位于该点左侧的点都没有意义\n",
    "使用查找--反向查找--正向查找？？"
   ]
  },
  {
   "cell_type": "code",
   "execution_count": 2,
   "metadata": {},
   "outputs": [],
   "source": [
    "from typing import List\n",
    "\n",
    "class Solution:\n",
    "    def maxScoreSightseeingPair(self, values: List[int]) -> int:\n",
    "        right = self.goRight(values)\n",
    "        left2 = self.goRight(values[right::-1])\n",
    "\n",
    "        ans = values[left2]+values[right]+right-left2\n",
    "\n",
    "        while right < len(values)-1:\n",
    "            ans=max(ans, self.maxScoreSightseeingPair(values[right:]))\n",
    "        return ans\n",
    "\n",
    "    def goRight(self, values):\n",
    "        n = len(values)\n",
    "        ans = values[1]-1\n",
    "        ansKey = 1\n",
    "        for key in range(1, n):\n",
    "            if values[key]-key >= ans:\n",
    "                ans = values[key]-key\n",
    "                ansKey = key\n",
    "        return ansKey\n"
   ]
  },
  {
   "cell_type": "markdown",
   "metadata": {},
   "source": [
    "## 思路还是不对\n",
    "\n",
    "问题出在收敛太慢了\n",
    "\n",
    "根据评论的提示想到一个思路，适配最开始的方法\n",
    "\n",
    "第一次的遍历便形成一个表格，之后对左侧端点的处理相当于表格中的所有值加一，也不对，不需要加一，只要在最后加上left值就行"
   ]
  },
  {
   "cell_type": "code",
   "execution_count": 3,
   "metadata": {},
   "outputs": [],
   "source": [
    "values = [1,2]"
   ]
  },
  {
   "cell_type": "code",
   "execution_count": 4,
   "metadata": {},
   "outputs": [],
   "source": [
    "from typing import List\n",
    "\n",
    "class Solution:\n",
    "    def maxScoreSightseeingPair(self, values: List[int]) -> int:\n",
    "        for k in range(len(values)):\n",
    "            values[k] = values[k] - k\n",
    "        ans = 0\n",
    "        for k in range(len(values)-1):\n",
    "            ans = max(ans,max(values[k+1:])+values[k]+2*k)\n",
    "        return ans"
   ]
  },
  {
   "cell_type": "code",
   "execution_count": 5,
   "metadata": {},
   "outputs": [
    {
     "name": "stdout",
     "output_type": "stream",
     "text": [
      "2\n"
     ]
    }
   ],
   "source": [
    "print(Solution().maxScoreSightseeingPair(values))"
   ]
  },
  {
   "cell_type": "markdown",
   "metadata": {},
   "source": [
    "由题可得，最大值结果由v[i]+i以及v[j]-j组成，对于同一个景点来说这两个值都是固定的，所以只需要遍历一次即可。边遍历的同时边计算当前节点的 v[i]+i的最大值 以及 （当前v[i]+i 的最大值）+ v[j]-j 的最大值，遍历结束就能得到结果。\n",
    "但是要求 `i < j`\n",
    "为什么我没有想到呢\n",
    "\n",
    "**不过我最后的代码思路也还行，yongchatgpt帮忙优化一下也过了**"
   ]
  },
  {
   "cell_type": "code",
   "execution_count": 6,
   "metadata": {},
   "outputs": [],
   "source": [
    "class Solution:\n",
    "    def maxScoreSightseeingPair(self, values: List[int]) -> int:\n",
    "        # 初始化当前的答案和右边的最大值\n",
    "        max_right = values[-1] - (len(values) - 1)  # values[i] - i 的初始值\n",
    "        ans = float('-inf')\n",
    "        \n",
    "        # 从倒数第二个元素开始向前遍历\n",
    "        for k in range(len(values) - 2, -1, -1):\n",
    "            # 更新答案\n",
    "            ans = max(ans, values[k] + k + max_right)\n",
    "            # 更新右边最大值\n",
    "            max_right = max(max_right, values[k] - k)\n",
    "        \n",
    "        return ans"
   ]
  }
 ],
 "metadata": {
  "kernelspec": {
   "display_name": "Python 3",
   "language": "python",
   "name": "python3"
  },
  "language_info": {
   "codemirror_mode": {
    "name": "ipython",
    "version": 3
   },
   "file_extension": ".py",
   "mimetype": "text/x-python",
   "name": "python",
   "nbconvert_exporter": "python",
   "pygments_lexer": "ipython3",
   "version": "3.12.1"
  }
 },
 "nbformat": 4,
 "nbformat_minor": 2
}
