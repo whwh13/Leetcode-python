{
 "cells": [
  {
   "cell_type": "markdown",
   "metadata": {},
   "source": [
    "# 20. 有效的括号\n",
    "\n",
    "给定一个只包括 `'('`，`')'`，`'{'`，`'}'`，`'['`，`']'` 的字符串 `s`，判断字符串是否有效。\n",
    "\n",
    "有效字符串需满足：\n",
    "1. 左括号必须用相同类型的右括号闭合。\n",
    "2. 左括号必须以正确的顺序闭合。\n",
    "3. 每个右括号都有一个对应的相同类型的左括号。\n",
    "\n",
    "## 示例 1：\n",
    "**输入**：`s = \"()\"`  \n",
    "**输出**：`true`\n",
    "\n",
    "## 示例 2：\n",
    "**输入**：`s = \"()[]{}\"`  \n",
    "**输出**：`true`\n",
    "\n",
    "## 示例 3：\n",
    "**输入**：`s = \"(]\"`  \n",
    "**输出**：`false`\n",
    "\n",
    "## 示例 4：\n",
    "**输入**：`s = \"([])\"`  \n",
    "**输出**：`true`\n",
    "\n",
    "## 提示：\n",
    "- `1 <= s.length <= 10^4`\n",
    "- `s` 仅由括号 `'()[]{}'` 组成\n"
   ]
  },
  {
   "cell_type": "markdown",
   "metadata": {},
   "source": [
    "## 解题\n",
    "\n",
    "思路上很简单，难的只是python的语法，至少对我来说。\n",
    "\n",
    "### 栈\n",
    "```python\n",
    "stack = []\n",
    "\n",
    "# 压栈操作\n",
    "stack.append(1)  # 栈现在是 [1]\n",
    "stack.append(2)  # 栈现在是 [1, 2]\n",
    "stack.append(3)  # 栈现在是 [1, 2, 3]\n",
    "\n",
    "print(\"当前栈:\", stack)\n",
    "\n",
    "# 出栈操作\n",
    "top_element = stack.pop()  # 返回3，栈现在是 [1, 2]\n",
    "print(\"出栈元素:\", top_element)\n",
    "print(\"出栈后的栈:\", stack)\n",
    "```\n",
    "\n",
    "## 解题\n",
    "\n",
    "有了栈的思路之后就很好解决了，每一个括号遍历，如果是左括号，就存到栈里，否则右括号就和栈顶对比\n",
    "对不上就返回false\n",
    "对上了就出栈，然后继续剩下的\n",
    "\n",
    "现在还有个问题是怎么对应呢\n",
    "创建一个hash表，右括号是key，左括号是item\n",
    "\n"
   ]
  },
  {
   "cell_type": "code",
   "execution_count": 1,
   "metadata": {},
   "outputs": [],
   "source": [
    "class Solution:\n",
    "    def isValid(self, s: str) -> bool:\n",
    "        hashtab = {\n",
    "            ')' : '(',\n",
    "            '}' : '{',\n",
    "            ']' : '['\n",
    "        }\n",
    "        stack = []\n",
    "        for char in s:\n",
    "            if char in hashtab.keys():\n",
    "                if len(stack) == 0 or hashtab[char] != stack.pop():\n",
    "                    return False\n",
    "            else:\n",
    "                stack.append(char)\n",
    "\n",
    "        return len(stack) == 0 "
   ]
  },
  {
   "cell_type": "code",
   "execution_count": 2,
   "metadata": {},
   "outputs": [],
   "source": [
    "s = \"()\""
   ]
  },
  {
   "cell_type": "code",
   "execution_count": 4,
   "metadata": {},
   "outputs": [
    {
     "name": "stdout",
     "output_type": "stream",
     "text": [
      "False\n"
     ]
    }
   ],
   "source": [
    "print(Solution().isValid(s))"
   ]
  },
  {
   "cell_type": "markdown",
   "metadata": {},
   "source": [
    "解决，修改了两次，一次是 之前的`return stack is None`并不是验证stack是不是空值\n",
    "另一次是在进行 `stack.pop()`之前先确定stack是不是空的，不然可能报错"
   ]
  }
 ],
 "metadata": {
  "kernelspec": {
   "display_name": "Python 3",
   "language": "python",
   "name": "python3"
  },
  "language_info": {
   "codemirror_mode": {
    "name": "ipython",
    "version": 3
   },
   "file_extension": ".py",
   "mimetype": "text/x-python",
   "name": "python",
   "nbconvert_exporter": "python",
   "pygments_lexer": "ipython3",
   "version": "3.12.1"
  }
 },
 "nbformat": 4,
 "nbformat_minor": 2
}
