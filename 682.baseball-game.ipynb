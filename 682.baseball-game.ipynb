{
 "cells": [
  {
   "cell_type": "markdown",
   "metadata": {},
   "source": [
    "## [682. 棒球比赛](https://example.com/problems/baseball-game/)\n",
    "\n",
    "你是一场采用特殊赛制棒球比赛的记录员，得到一个记录操作的字符串列表 `ops`，其中每项操作遵循以下规则：\n",
    "\n",
    "1. 整数 `x` 表示本回合新获得分数 `x`。\n",
    "2. `\"+\"` 表示本回合新得分是前两次得分的总和。题目保证记录此操作时前面总有两个有效分数。\n",
    "3. `\"D\"` 表示本回合新得分是前一次得分的两倍。题目保证记录此操作时前面总有一个有效分数。\n",
    "4. `\"C\"` 表示前一次得分无效并移除。题目保证记录此操作时前面总有一个有效分数。\n",
    "\n",
    "返回所有得分的总和。\n",
    "\n",
    "### 示例\n",
    "\n",
    "**示例 1：**\n",
    "\n",
    "输入：\n",
    "```\n",
    "ops = [\"5\",\"2\",\"C\",\"D\",\"+\"]\n",
    "```\n",
    "输出：\n",
    "```\n",
    "30\n",
    "```\n",
    "解释：\n",
    "1. `5` - 记录加 `5`，记录为 `[5]`\n",
    "2. `2` - 记录加 `2`，记录为 `[5, 2]`\n",
    "3. `C` - 前一次得分无效，移除，记录为 `[5]`\n",
    "4. `D` - 记录加 `2 * 5 = 10`，记录为 `[5, 10]`\n",
    "5. `+` - 记录加 `5 + 10 = 15`，记录为 `[5, 10, 15]`\n",
    "总和为 `5 + 10 + 15 = 30`\n",
    "\n",
    "**示例 2：**\n",
    "\n",
    "输入：\n",
    "```\n",
    "ops = [\"5\",\"-2\",\"4\",\"C\",\"D\",\"9\",\"+\",\"+\"]\n",
    "```\n",
    "输出：\n",
    "```\n",
    "27\n",
    "```\n",
    "\n",
    "**示例 3：**\n",
    "\n",
    "输入：\n",
    "```\n",
    "ops = [\"1\"]\n",
    "```\n",
    "输出：\n",
    "```\n",
    "1\n",
    "```\n",
    "\n",
    "### 提示\n",
    "\n",
    "- `1 <= ops.length <= 1000`\n",
    "- `ops[i]` 为 `\"C\"`、`\"D\"`、`\"+\"` 或表示整数的字符串，范围 `[-3 * 10^4, 3 * 10^4]`\n",
    "- 对于 `\"+\"` 操作，保证前面总有两个有效分数"
   ]
  },
  {
   "cell_type": "code",
   "execution_count": 14,
   "metadata": {},
   "outputs": [],
   "source": [
    "from typing import List\n",
    "\n",
    "\n",
    "class Solution:\n",
    "    def calPoints(self, operations: List[str]) -> int:\n",
    "        ans = []\n",
    "        for op in operations:\n",
    "            if op == 'D':\n",
    "                ans.append(2*ans[-1])\n",
    "            elif op == 'C':\n",
    "                ans.pop()\n",
    "            elif op == '+':\n",
    "                ans.append(ans[-1]+ans[-2])\n",
    "            else:\n",
    "                ans.append(int(op))\n",
    "        return sum(ans)"
   ]
  },
  {
   "cell_type": "code",
   "execution_count": 15,
   "metadata": {},
   "outputs": [
    {
     "name": "stdout",
     "output_type": "stream",
     "text": [
      "30\n"
     ]
    }
   ],
   "source": [
    "operations = [\"5\",\"2\",\"C\",\"D\",\"+\"]\n",
    "print(Solution().calPoints(operations))"
   ]
  }
 ],
 "metadata": {
  "kernelspec": {
   "display_name": "Python 3",
   "language": "python",
   "name": "python3"
  },
  "language_info": {
   "codemirror_mode": {
    "name": "ipython",
    "version": 3
   },
   "file_extension": ".py",
   "mimetype": "text/x-python",
   "name": "python",
   "nbconvert_exporter": "python",
   "pygments_lexer": "ipython3",
   "version": "3.12.1"
  }
 },
 "nbformat": 4,
 "nbformat_minor": 2
}
