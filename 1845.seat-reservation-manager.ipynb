{
 "cells": [
  {
   "cell_type": "markdown",
   "metadata": {},
   "source": [
    "### [1845. 座位预约管理系统](https://leetcode.cn/problems/seat-reservation-manager/)\n",
    "\n",
    "请你设计一个管理 `n` 个座位预约的系统，座位编号从 `1` 到 `n` 。\n",
    "\n",
    "请你实现 `SeatManager` 类：\n",
    "\n",
    "- `SeatManager(int n)` 初始化一个 `SeatManager` 对象，它管理从 `1` 到 `n` 编号的 `n` 个座位。所有座位初始都是可预约的。\n",
    "- `int reserve()` 返回可以预约座位的 **最小编号**，此座位变为不可预约。\n",
    "- `void unreserve(int seatNumber)` 将给定编号 `seatNumber` 对应的座位变成可以预约。\n",
    "\n",
    "#### 示例 1：\n",
    "\n",
    "**输入：**  \n",
    "`[\"SeatManager\", \"reserve\", \"reserve\", \"unreserve\", \"reserve\", \"reserve\", \"reserve\", \"reserve\", \"unreserve\"]`  \n",
    "`[[5], [], [], [2], [], [], [], [], [5]]`\n",
    "\n",
    "**输出：**  \n",
    "`[null, 1, 2, null, 2, 3, 4, 5, null]`\n",
    "\n",
    "**解释：**  \n",
    "```cpp\n",
    "SeatManager seatManager = new SeatManager(5); // 初始化 SeatManager ，有 5 个座位。\n",
    "seatManager.reserve();    // 所有座位都可以预约，所以返回最小编号的座位，也就是 1 。\n",
    "seatManager.reserve();    // 可以预约的座位为 [2,3,4,5] ，返回最小编号的座位，也就是 2 。\n",
    "seatManager.unreserve(2); // 将座位 2 变为可以预约，现在可预约的座位为 [2,3,4,5] 。\n",
    "seatManager.reserve();    // 可以预约的座位为 [2,3,4,5] ，返回最小编号的座位，也就是 2 。\n",
    "seatManager.reserve();    // 可以预约的座位为 [3,4,5] ，返回最小编号的座位，也就是 3 。\n",
    "seatManager.reserve();    // 可以预约的座位为 [4,5] ，返回最小编号的座位，也就是 4 。\n",
    "seatManager.reserve();    // 唯一可以预约的是座位 5 ，所以返回 5 。\n",
    "seatManager.unreserve(5); // 将座位 5 变为可以预约，现在可预约的座位为 [5] 。\n",
    "```\n",
    "\n",
    "#### 提示：\n",
    "\n",
    "- `1 <= n <= 10^5`\n",
    "- `1 <= seatNumber <= n`\n",
    "- 每一次对 `reserve` 的调用，题目保证至少存在一个可以预约的座位。\n",
    "- 每一次对 `unreserve` 的调用，题目保证 `seatNumber` 在调用函数前都是被预约状态。\n",
    "- 对 `reserve` 和 `unreserve` 的调用 **总共** 不超过 `10^5` 次。\n"
   ]
  },
  {
   "cell_type": "code",
   "execution_count": 3,
   "metadata": {},
   "outputs": [],
   "source": [
    "class SeatManager:\n",
    "\n",
    "    def __init__(self, n: int):\n",
    "        self.list = [0]*n\n",
    "        self.long = n\n",
    "    def reserve(self) -> int:\n",
    "        for i in range(self.long):\n",
    "            if self.list[i] == 0:\n",
    "               self.list[i] = 1\n",
    "               return i+1\n",
    "    def unreserve(self, seatNumber: int) -> None:\n",
    "        self.list[seatNumber-1] = 0\n",
    "\n",
    "\n",
    "\n",
    "# Your SeatManager object will be instantiated and called as such:\n",
    "# obj = SeatManager(n)\n",
    "# param_1 = obj.reserve()\n",
    "# obj.unreserve(seatNumber)\n",
    "\n",
    "\n",
    "\n",
    "# Your SeatManager object will be instantiated and called as such:\n",
    "# obj = SeatManager(n)\n",
    "# param_1 = obj.reserve()\n",
    "# obj.unreserve(seatNumber)"
   ]
  },
  {
   "cell_type": "markdown",
   "metadata": {},
   "source": [
    "整体的逻辑和代码的实现没有问题\n",
    "问题出在一个100000位长的座位表并不停reserve的情况\n",
    "解决方法应该也不难，只要记录一个当前的reserve值和前面被unreserve的情况就行"
   ]
  },
  {
   "cell_type": "code",
   "execution_count": 4,
   "metadata": {},
   "outputs": [],
   "source": [
    "import bisect\n",
    "\n",
    "class SeatManager:\n",
    "\n",
    "    def __init__(self, n: int):\n",
    "        self.toreserve = 0\n",
    "        self.unreserved = []\n",
    "        self.unreservedNum = 0\n",
    "\n",
    "    def reserve(self) -> int:\n",
    "        if self.unreservedNum == 0:\n",
    "            self.toreserve += 1\n",
    "            return self.toreserve\n",
    "        else:\n",
    "            self.unreservedNum -= 1\n",
    "            toReturn = self.unreserved[0]\n",
    "            self.unreserved = self.unreserved[1:]\n",
    "            return toReturn\n",
    "            \n",
    "\n",
    "    def unreserve(self, seatNumber: int) -> None:\n",
    "        self.unreservedNum += 1\n",
    "        bisect.insort_left(self.unreserved, seatNumber)\n",
    "\n"
   ]
  },
  {
   "cell_type": "markdown",
   "metadata": {},
   "source": [
    "通过了，但是看题解发现这是一个更偏数据结构的题目，使用二叉堆会更简单更快"
   ]
  }
 ],
 "metadata": {
  "kernelspec": {
   "display_name": "Python 3",
   "language": "python",
   "name": "python3"
  },
  "language_info": {
   "codemirror_mode": {
    "name": "ipython",
    "version": 3
   },
   "file_extension": ".py",
   "mimetype": "text/x-python",
   "name": "python",
   "nbconvert_exporter": "python",
   "pygments_lexer": "ipython3",
   "version": "3.12.1"
  }
 },
 "nbformat": 4,
 "nbformat_minor": 2
}
