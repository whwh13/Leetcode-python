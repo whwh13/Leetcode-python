{
 "cells": [
  {
   "cell_type": "markdown",
   "metadata": {},
   "source": [
    "## [3255. 长度为 K 的子数组的能量值 II](https://example.com/problems/find-the-power-of-k-size-subarrays-ii/)\n",
    "\n",
    "给你一个长度为 `n` 的整数数组 `nums` 和一个正整数 `k` 。\n",
    "\n",
    "一个数组的 **能量值** 定义为：\n",
    "\n",
    "- 如果 **所有** 元素都是依次 **连续** 且 **上升** 的，那么能量值为 **最大** 的元素。\n",
    "- 否则为 -1 。\n",
    "\n",
    "你需要求出 `nums` 中所有长度为 `k` 的 **子数组** 的能量值。\n",
    "\n",
    "请你返回一个长度为 `n - k + 1` 的整数数组 `results`，其中 `results[i]` 是子数组 `nums[i..(i + k - 1)]` 的能量值。\n",
    "\n",
    "### 示例 1：\n",
    "\n",
    "**输入：**\n",
    "```\n",
    "nums = [1,2,3,4,3,2,5], k = 3\n",
    "```\n",
    "**输出：**\n",
    "```\n",
    "[3,4,-1,-1,-1]\n",
    "```\n",
    "**解释：**\n",
    "\n",
    "`nums` 中总共有 5 个长度为 3 的子数组：\n",
    "\n",
    "- `[1, 2, 3]` 中最大元素为 3 。\n",
    "- `[2, 3, 4]` 中最大元素为 4 。\n",
    "- `[3, 4, 3]` 中元素 **不是** 连续的。\n",
    "- `[4, 3, 2]` 中元素 **不是** 上升的。\n",
    "- `[3, 2, 5]` 中元素 **不是** 连续的。\n",
    "\n",
    "### 示例 2：\n",
    "\n",
    "**输入：**\n",
    "```\n",
    "nums = [2,2,2,2,2], k = 4\n",
    "```\n",
    "**输出：**\n",
    "```\n",
    "[-1,-1]\n",
    "```\n",
    "\n",
    "### 示例 3：\n",
    "\n",
    "**输入：**\n",
    "```\n",
    "nums = [3,2,3,2,3,2], k = 2\n",
    "```\n",
    "**输出：**\n",
    "```\n",
    "[-1,3,-1,3,-1]\n",
    "```\n",
    "\n",
    "### 提示：\n",
    "\n",
    "- `1 <= n == nums.length <= 10^5`\n",
    "- `1 <= nums[i] <= 10^6`\n",
    "- `1 <= k <= n`\n"
   ]
  },
  {
   "cell_type": "markdown",
   "metadata": {},
   "source": [
    "## 思考\n",
    "\n",
    "需要的是两个条件，同时连续且递增，那么对于连续部分的判断就很简单，只需要判断新数组的后一个数与上一个数是不是加一就好。\n",
    "\n",
    "所以可以创建一个表，表内归纳每一个数是否满足连续递增。之后根据是不是连续满足再得到答案表\n",
    "\n",
    "这里的思路是可以优化的，上面的两次遍历很容易通过优化变成一次遍历。但是先这样做一下看看吧"
   ]
  },
  {
   "cell_type": "code",
   "execution_count": 31,
   "metadata": {},
   "outputs": [],
   "source": [
    "from typing import List\n",
    "\n",
    "\n",
    "class Solution:\n",
    "    def resultsArray(self, nums: List[int], k: int) -> List[int]:\n",
    "        isNumsRight = [1]\n",
    "        ans = []\n",
    "        for ii in range(1,len(nums)):\n",
    "            if nums[ii] == nums[ii-1]+1:\n",
    "                isNumsRight.append(1)\n",
    "            else:\n",
    "                isNumsRight.append(0)\n",
    "\n",
    "        for jj in range(len(nums)-k+1):\n",
    "            if sum(isNumsRight[jj+1:jj+k]) >= k-1:\n",
    "                ans.append(nums[jj+k-1])\n",
    "            else:\n",
    "                ans.append(-1)\n",
    "        if k == 1:\n",
    "            return nums\n",
    "        return ans\n"
   ]
  },
  {
   "cell_type": "code",
   "execution_count": 32,
   "metadata": {},
   "outputs": [],
   "source": [
    "nums = [3,2,3,2,3,2]\n",
    "k = 2"
   ]
  },
  {
   "cell_type": "code",
   "execution_count": 33,
   "metadata": {},
   "outputs": [
    {
     "name": "stdout",
     "output_type": "stream",
     "text": [
      "[-1, 3, -1, 3, -1]\n"
     ]
    }
   ],
   "source": [
    "print(Solution().resultsArray(nums, k))"
   ]
  },
  {
   "cell_type": "markdown",
   "metadata": {},
   "source": [
    "上面的代码虽然再提交之后修改了很多次，但是主要还是针对判定条件的修改，没有改本质的思路，所以毫不意外的最后会超时。\n",
    "下面思考怎么不超时\n",
    "\n",
    "遍历一次，遍历过程中统计连续的数目\n",
    "索引》=k的时候开始处理ans\n",
    "当出现不连续的时候，将连续数目设置为0"
   ]
  },
  {
   "cell_type": "code",
   "execution_count": 34,
   "metadata": {},
   "outputs": [],
   "source": [
    "from typing import List\n",
    "\n",
    "\n",
    "class Solution:\n",
    "    def resultsArray(self, nums: List[int], k: int) -> List[int]:\n",
    "        if k == 1:\n",
    "            return nums\n",
    "        ans = []\n",
    "        c = 1\n",
    "        for ii in range(1,len(nums)):\n",
    "            if nums[ii] == nums[ii-1]+1:\n",
    "                c += 1\n",
    "            else:\n",
    "                c = 1\n",
    "            if ii >= k-1:\n",
    "                if c >= k:\n",
    "                    ans.append(nums[ii])\n",
    "                else:\n",
    "                    ans.append(-1)\n",
    "        return ans\n",
    "            \n"
   ]
  }
 ],
 "metadata": {
  "kernelspec": {
   "display_name": "Python 3",
   "language": "python",
   "name": "python3"
  },
  "language_info": {
   "codemirror_mode": {
    "name": "ipython",
    "version": 3
   },
   "file_extension": ".py",
   "mimetype": "text/x-python",
   "name": "python",
   "nbconvert_exporter": "python",
   "pygments_lexer": "ipython3",
   "version": "3.12.1"
  }
 },
 "nbformat": 4,
 "nbformat_minor": 2
}
