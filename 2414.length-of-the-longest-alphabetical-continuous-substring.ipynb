{
 "cells": [
  {
   "cell_type": "markdown",
   "metadata": {},
   "source": [
    "## [2414. 最长的字母序连续子字符串的长度](https://leetcode.cn/problems/length-of-the-longest-alphabetical-continuous-substring/)\n",
    "\n",
    "**难度：中等**\n",
    "\n",
    "### 题目描述\n",
    "\n",
    "**字母序连续字符串** 是由字母表中连续字母组成的字符串。换句话说，字符串 `\"abcdefghijklmnopqrstuvwxyz\"` 的任意子字符串都是 **字母序连续字符串**。\n",
    "\n",
    "- 例如，`\"abc\"` 是一个字母序连续字符串，而 `\"acb\"` 和 `\"za\"` 不是。\n",
    "\n",
    "给你一个仅由小写英文字母组成的字符串 `s`，返回其 **最长** 的字母序连续子字符串的长度。\n",
    "\n",
    "### 示例 1：\n",
    "**输入**：s = \"abacaba\"  \n",
    "**输出**：2  \n",
    "**解释**：共有 4 个不同的字母序连续子字符串 \"a\"、\"b\"、\"c\" 和 \"ab\"。  \n",
    "\"ab\" 是最长的字母序连续子字符串。\n",
    "\n",
    "### 示例 2：\n",
    "**输入**：s = \"abcde\"  \n",
    "**输出**：5  \n",
    "**解释**：\"abcde\" 是最长的字母序连续子字符串。\n",
    "\n",
    "### 提示：\n",
    "- `1 <= s.length <= 10^5`\n",
    "- `s` 由小写英文字母组成"
   ]
  },
  {
   "cell_type": "markdown",
   "metadata": {},
   "source": [
    "### 暴力思路\n",
    "对整个字符串`s`进行遍历，遍历的规则中如果后面的字符是前面的字符的下一个字符在，则临时计数加一，直到临时计数到达尽头，此时记录值之前的最大值对比，如果大于最大值，则更新最大值。最后返回最大值。\n",
    "\n",
    "#### 怎么判断前后的字符"
   ]
  },
  {
   "cell_type": "code",
   "execution_count": 3,
   "metadata": {},
   "outputs": [
    {
     "name": "stdout",
     "output_type": "stream",
     "text": [
      "t\n",
      "{\n"
     ]
    }
   ],
   "source": [
    "char1 = 's'\n",
    "char2 = 'z'\n",
    "char5 = chr(ord(char1) + 1)\n",
    "char6 = chr(ord(char2) + 1)\n",
    "print(char5)  # 输出 't'\n",
    "print(char6)\n"
   ]
  },
  {
   "cell_type": "code",
   "execution_count": 5,
   "metadata": {},
   "outputs": [],
   "source": [
    "class Solution:\n",
    "    def longestContinuousSubstring(self, s: str) -> int:\n",
    "        if len(s) == 1:\n",
    "            return 1\n",
    "        \n",
    "        maxSaved = 1\n",
    "        maxTemp = 1        \n",
    "        charFront = s[0]\n",
    "\n",
    "        for i in range(len(s)-1):\n",
    "            if ord(s[i+1]) == ord(charFront)+1:\n",
    "                maxTemp += 1\n",
    "            else:\n",
    "                maxSaved = max(maxSaved,maxTemp)\n",
    "                maxTemp = 1\n",
    "            charFront = s[i+1]\n",
    "        return max(maxSaved,maxTemp)"
   ]
  },
  {
   "cell_type": "code",
   "execution_count": 6,
   "metadata": {},
   "outputs": [
    {
     "name": "stdout",
     "output_type": "stream",
     "text": [
      "2\n"
     ]
    }
   ],
   "source": [
    "s =\"abacaba\"\n",
    "print(Solution().longestContinuousSubstring(s))  # 3"
   ]
  }
 ],
 "metadata": {
  "kernelspec": {
   "display_name": "Python 3",
   "language": "python",
   "name": "python3"
  },
  "language_info": {
   "codemirror_mode": {
    "name": "ipython",
    "version": 3
   },
   "file_extension": ".py",
   "mimetype": "text/x-python",
   "name": "python",
   "nbconvert_exporter": "python",
   "pygments_lexer": "ipython3",
   "version": "3.12.1"
  }
 },
 "nbformat": 4,
 "nbformat_minor": 2
}
