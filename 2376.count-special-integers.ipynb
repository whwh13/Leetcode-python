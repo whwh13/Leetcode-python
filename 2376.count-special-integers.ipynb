{
 "cells": [
  {
   "cell_type": "markdown",
   "metadata": {},
   "source": [
    "### [2376. 统计特殊整数](https://leetcode.com/problems/count-special-integers/)\n",
    "\n",
    "如果一个正整数每一个数位都是 **互不相同** 的，我们称它是 **特殊整数**。\n",
    "\n",
    "给你一个 **正** 整数 `n`，请你返回区间 `[1, n]` 之间特殊整数的数目。\n",
    "\n",
    "#### 示例 1：\n",
    "\n",
    "**输入：** n = 20  \n",
    "**输出：** 19  \n",
    "**解释：** 1 到 20 之间所有整数除了 11 以外都是特殊整数。所以总共有 19 个特殊整数。\n",
    "\n",
    "#### 示例 2：\n",
    "\n",
    "**输入：** n = 5  \n",
    "**输出：** 5  \n",
    "**解释：** 1 到 5 所有整数都是特殊整数。\n",
    "\n",
    "#### 示例 3：\n",
    "\n",
    "**输入：** n = 135  \n",
    "**输出：** 110  \n",
    "**解释：** 从 1 到 135 总共有 110 个整数是特殊整数。不特殊的部分数字为：22，114 和 131。\n",
    "\n",
    "#### 提示：\n",
    "\n",
    "- `1 <= n <= 2 * 10^9`\n"
   ]
  },
  {
   "cell_type": "markdown",
   "metadata": {},
   "source": [
    "### 首先思考数学问题\n",
    "能不能从数学上简化这个问题，理论上这应该有个至少是分段函数。好像分段数目太多了，不过貌似也可以\n",
    "\n",
    "### 通过暴力的方式遍历\n",
    "复杂度有点高，但并不是难以接受的\n",
    "如果是现实中，应该会采用存储表的模式，但是leecode中难以做到\n",
    "\n",
    "### 递归的方法\n",
    "先去除最高位，求剩下的**特殊整数**数量，"
   ]
  },
  {
   "cell_type": "markdown",
   "metadata": {},
   "source": [
    "#### 不会做，看了题解，后面再做"
   ]
  },
  {
   "cell_type": "code",
   "execution_count": null,
   "metadata": {},
   "outputs": [],
   "source": [
    "n=20"
   ]
  },
  {
   "cell_type": "code",
   "execution_count": null,
   "metadata": {},
   "outputs": [],
   "source": [
    "class Solution:\n",
    "    def countSpecialNumbers(self, n: int) -> int:"
   ]
  },
  {
   "cell_type": "code",
   "execution_count": null,
   "metadata": {},
   "outputs": [],
   "source": [
    "print(Solution().countSpecialNumbers(n))"
   ]
  }
 ],
 "metadata": {
  "language_info": {
   "name": "python"
  }
 },
 "nbformat": 4,
 "nbformat_minor": 2
}
