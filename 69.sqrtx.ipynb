{
 "cells": [
  {
   "cell_type": "markdown",
   "metadata": {},
   "source": [
    "### [69. x 的平方根](https://leetcode.com/problems/sqrtx/)\n",
    "\n",
    "给你一个非负整数 `x`，计算并返回 `x` 的 **算术平方根**。\n",
    "\n",
    "由于返回类型是整数，结果只保留 **整数部分**，小数部分将被 **舍去**。\n",
    "\n",
    "**注意：** 不允许使用任何内置指数函数和算符，例如 `pow(x, 0.5)` 或者 `x ** 0.5`。\n",
    "\n",
    "#### 示例 1：\n",
    "\n",
    "**输入：** x = 4  \n",
    "**输出：** 2\n",
    "\n",
    "#### 示例 2：\n",
    "\n",
    "**输入：** x = 8  \n",
    "**输出：** 2  \n",
    "**解释：** 8 的算术平方根是 2.82842...，由于返回类型是整数，小数部分将被舍去。\n",
    "\n",
    "#### 提示：\n",
    "\n",
    "- `0 <= x <= 2^31 - 1`\n"
   ]
  },
  {
   "cell_type": "markdown",
   "metadata": {},
   "source": [
    "## 思路\n",
    "\n",
    "整个数可能会非常大，所以使用二分法搜索。尝试过通过首位数初算，但是貌似不如二分法进行一步的，没必要"
   ]
  },
  {
   "cell_type": "code",
   "execution_count": 17,
   "metadata": {},
   "outputs": [],
   "source": [
    "class Solution:\n",
    "    def mySqrt(self, x: int) -> int:\n",
    "        if x==0:\n",
    "            return 0\n",
    "        if x==1:\n",
    "            return 1\n",
    "        right = x\n",
    "        left = 0\n",
    "        while left < right-1:\n",
    "            current = (left + right) // 2\n",
    "            if current**2 == x:\n",
    "                return current\n",
    "            elif current**2 > x:\n",
    "                right = current\n",
    "            else:\n",
    "                left = current\n",
    "        return left"
   ]
  },
  {
   "cell_type": "code",
   "execution_count": 18,
   "metadata": {},
   "outputs": [],
   "source": [
    "x=4\n",
    "x2=100"
   ]
  },
  {
   "cell_type": "code",
   "execution_count": 19,
   "metadata": {},
   "outputs": [
    {
     "name": "stdout",
     "output_type": "stream",
     "text": [
      "2\n",
      "10\n"
     ]
    }
   ],
   "source": [
    "print(Solution().mySqrt(x))\n",
    "print(Solution().mySqrt(x2))"
   ]
  }
 ],
 "metadata": {
  "kernelspec": {
   "display_name": "Python 3",
   "language": "python",
   "name": "python3"
  },
  "language_info": {
   "codemirror_mode": {
    "name": "ipython",
    "version": 3
   },
   "file_extension": ".py",
   "mimetype": "text/x-python",
   "name": "python",
   "nbconvert_exporter": "python",
   "pygments_lexer": "ipython3",
   "version": "3.12.1"
  }
 },
 "nbformat": 4,
 "nbformat_minor": 2
}
