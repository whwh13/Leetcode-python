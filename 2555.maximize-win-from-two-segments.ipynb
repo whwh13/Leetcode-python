{
 "cells": [
  {
   "cell_type": "markdown",
   "metadata": {},
   "source": [
    "## 2555. 两个线段获得的最多奖品\n",
    "\n",
    "在 X 轴上有一些奖品。给你一个整数数组 `prizePositions`，它按 **非递减** 顺序排列，其中 `prizePositions[i]` 是第 `i` 件奖品的位置。数轴上一个位置可能会有多件奖品。再给你一个整数 `k`。\n",
    "\n",
    "你可以选择两个端点为整数的线段。每个线段的长度必须是 `k`。你可以获得位置在任一线段上的所有奖品（包括线段的两个端点）。注意，两个线段可以重合。\n",
    "\n",
    "- 比方说 `k = 2`，你可以选择线段 `[1, 3]` 和 `[2, 4]`，可以获得 `1 <= prizePositions[i] <= 3` 或者 `2 <= prizePositions[i] <= 4` 的所有奖品。\n",
    "\n",
    "请你返回在选择两个最优线段的前提下，可以获得的 **最多** 奖品数目。\n",
    "\n",
    "**示例 1:**\n",
    "\n",
    "**输入:** `prizePositions = [1,1,2,2,3,3,5]`, `k = 2`  \n",
    "**输出:** `7`\n",
    "\n",
    "**解释:** \n",
    "这个例子中, 你可以选择线段 `[1, 3]` 和 `[3, 5]`, 获得 `7` 个奖品。\n",
    "\n",
    "**示例 2:**\n",
    "\n",
    "**输入:** `prizePositions = [1,2,3,4]`, `k = 0`  \n",
    "**输出:** `2`\n",
    "\n",
    "**解释:**  \n",
    "这个例子中, 你选择线段 `[3, 3]` 和 `[4, 4]`, 获得 `2` 个奖品。\n",
    "\n",
    "### 提示:\n",
    "\n",
    "- `1 <= prizePositions.length <= 10^5`\n",
    "- `1 <= prizePositions[i] <= 10^9`\n",
    "- `0 <= k <= 10^9`\n",
    "- `prizePositions` 有序非递减。\n"
   ]
  },
  {
   "cell_type": "markdown",
   "metadata": {},
   "source": [
    "## 解题\n",
    "\n",
    "抽象成数学模型：现有一个非递减数组，一个正整数k，从数组中某一个数p开始，所有数组中数小于p+k的数字个数即为单个线的奖品数。\n",
    "现有两个长度均为k的线，求其奖品数，重合不计"
   ]
  },
  {
   "cell_type": "markdown",
   "metadata": {},
   "source": [
    "### 暴力思路\n",
    "先通过一次遍历，求出来单次最优解，会将剩下数组分成两个子数组，再求？\n",
    "\n",
    "#### 上面不对\n",
    "如果是类似山谷的数组结构，贪心算法不合适，比如`[4,4,5,5,6,6,6,7]``k=2`.这样首先会选择5-6,而剩下的无论是选4还是7都不如最优的4-5和6-7"
   ]
  },
  {
   "cell_type": "markdown",
   "metadata": {},
   "source": [
    "### 暴力思路2\n",
    "先遍历一个2k的，然后和上面的结果进行对比，取大值\n",
    "\n",
    "### 怎么暴力求解，对于这种的数组\n",
    "\n",
    "设置一个start_i和start——number。对j，`nums[j] <= start-number`,则 ans +=1 同时j继续。如果`>`，start——i 持续加一直到`nums[start-i]>start--number`,记录ans和之前ans对比"
   ]
  },
  {
   "cell_type": "code",
   "execution_count": 28,
   "metadata": {},
   "outputs": [],
   "source": [
    "from typing import List\n",
    "\n",
    "\n",
    "class Solution:\n",
    "    def maximizeWin2(self, prizePositions: List[int], k: int) -> int:\n",
    "        l = prizePositions[-1] - prizePositions[0]\n",
    "        if k >= l:\n",
    "            return len(prizePositions)\n",
    "        start_i = 0\n",
    "        start_num = prizePositions[start_i]\n",
    "        t = 1\n",
    "        ans = 1\n",
    "        while t < len(prizePositions):\n",
    "            if prizePositions[t] <= start_num+k:\n",
    "                ans += 1\n",
    "                t += 1\n",
    "                continue\n",
    "            else:\n",
    "                while start_num <= prizePositions[start_i]:\n",
    "                    start_i += 1\n",
    "                    if start_i == len(prizePositions)-1:\n",
    "                        return ans\n",
    "                start_num = prizePositions[start_i]\n",
    "        return ans\n",
    "        \n"
   ]
  },
  {
   "cell_type": "code",
   "execution_count": 29,
   "metadata": {},
   "outputs": [],
   "source": [
    "prizePositions = [1,1,2,2,3,3,5]\n",
    "k = 3"
   ]
  },
  {
   "cell_type": "code",
   "execution_count": 30,
   "metadata": {},
   "outputs": [
    {
     "name": "stdout",
     "output_type": "stream",
     "text": [
      "6\n"
     ]
    }
   ],
   "source": [
    "print(Solution().maximizeWin2(prizePositions,k))"
   ]
  },
  {
   "cell_type": "code",
   "execution_count": 31,
   "metadata": {},
   "outputs": [],
   "source": [
    "class Solution:\n",
    "    def maximizeWin(self, prizePositions: List[int], k: int) -> int:\n",
    "        ans1 = self.maximizeWin2(prizePositions,2*k)\n",
    "        ans21 = self.maximizeWin2(prizePositions,k)\n",
    "        return max(ans1,ans2)"
   ]
  },
  {
   "cell_type": "markdown",
   "metadata": {},
   "source": [
    "# 太难了，放弃了，看题解去了"
   ]
  }
 ],
 "metadata": {
  "kernelspec": {
   "display_name": "Python 3",
   "language": "python",
   "name": "python3"
  },
  "language_info": {
   "codemirror_mode": {
    "name": "ipython",
    "version": 3
   },
   "file_extension": ".py",
   "mimetype": "text/x-python",
   "name": "python",
   "nbconvert_exporter": "python",
   "pygments_lexer": "ipython3",
   "version": "3.10.11"
  }
 },
 "nbformat": 4,
 "nbformat_minor": 2
}
