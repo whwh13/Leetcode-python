{
 "cells": [
  {
   "cell_type": "markdown",
   "metadata": {},
   "source": [
    "## [1535. 找出数组游戏的赢家](https://example.com/problems/find-the-winner-of-an-array-game/)\n",
    "\n",
    "给你一个由 **不同** 整数组成的整数数组 `arr` 和一个整数 `k` 。\n",
    "\n",
    "每回合游戏都在数组的前两个元素（即 `arr[0]` 和 `arr[1]` ）之间进行。比较 `arr[0]` 与 `arr[1]` 的大小，较大的整数将会取得这一回合的胜利并保留在位置 `0` ，较小的整数移至数组的末尾。当一个整数赢得 `k` 个连续回合时，游戏结束，该整数就是比赛的 **赢家** 。\n",
    "\n",
    "返回赢得比赛的整数。\n",
    "\n",
    "题目数据 **保证** 游戏存在赢家。\n",
    "\n",
    "### 示例 1：\n",
    "\n",
    "**输入：**\n",
    "```\n",
    "arr = [2,1,3,5,4,6,7], k = 2\n",
    "```\n",
    "**输出：**\n",
    "```\n",
    "5\n",
    "```\n",
    "**解释：**\n",
    "\n",
    "一起看一下本场游戏每回合的情况：\n",
    "![Example 1](https://assets.leetcode-cn.com/aliyun-lc-upload/uploads/2020/07/30/q-example.png)\n",
    "\n",
    "因此将进行 4 回合比赛，其中 5 是赢家，因为它连胜 2 回合。\n",
    "\n",
    "### 示例 2：\n",
    "\n",
    "**输入：**\n",
    "```\n",
    "arr = [3,2,1], k = 10\n",
    "```\n",
    "**输出：**\n",
    "```\n",
    "3\n",
    "```\n",
    "**解释：**\n",
    "3 将会在前 10 个回合中连续获胜。\n",
    "\n",
    "### 示例 3：\n",
    "\n",
    "**输入：**\n",
    "```\n",
    "arr = [1,9,8,2,3,7,6,4,5], k = 7\n",
    "```\n",
    "**输出：**\n",
    "```\n",
    "9\n",
    "```\n",
    "\n",
    "### 示例 4：\n",
    "\n",
    "**输入：**\n",
    "```\n",
    "arr = [1,11,22,33,44,55,66,77,88,99], k = 1000000000\n",
    "```\n",
    "**输出：**\n",
    "```\n",
    "99\n",
    "```\n",
    "\n",
    "### 提示：\n",
    "\n",
    "- `2 <= arr.length <= 10^5`\n",
    "- `1 <= arr[i] <= 10^6`\n",
    "- `arr` 所含的整数 **各不相同** 。\n",
    "- `1 <= k <= 10^9`\n"
   ]
  },
  {
   "cell_type": "markdown",
   "metadata": {},
   "source": [
    "### 思路\n",
    "\n",
    "两个指针，一个指向目前的最大值（决斗失败之后的数字肯定后续还会失败），另一个会指向决斗对象"
   ]
  },
  {
   "cell_type": "code",
   "execution_count": null,
   "metadata": {},
   "outputs": [],
   "source": [
    "from typing import List\n",
    "\n",
    "\n",
    "class Solution:\n",
    "    def getWinner(self, arr: List[int], k: int) -> int:\n",
    "        winTimes = 0\n",
    "        now = 0\n",
    "        next = 1\n",
    "        while next < len(arr) and winTimes < k:\n",
    "            if arr[now]>arr[next]:\n",
    "                winTimes += 1\n",
    "                next += 1\n",
    "            else:\n",
    "                now = next\n",
    "                next += 1\n",
    "                winTimes = 1\n",
    "        return arr[now]"
   ]
  },
  {
   "cell_type": "markdown",
   "metadata": {},
   "source": [
    "一次过 击败39.06%，明显还有改进空间"
   ]
  }
 ],
 "metadata": {
  "kernelspec": {
   "display_name": "Python 3",
   "language": "python",
   "name": "python3"
  },
  "language_info": {
   "name": "python",
   "version": "3.12.1"
  }
 },
 "nbformat": 4,
 "nbformat_minor": 2
}
