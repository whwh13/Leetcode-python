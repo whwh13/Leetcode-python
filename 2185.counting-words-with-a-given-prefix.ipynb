{
 "cells": [
  {
   "cell_type": "markdown",
   "metadata": {},
   "source": [
    "### [2185. 统计包含给定前缀的字符串](https://leetcode.com/problems/counting-words-with-a-given-prefix/)\n",
    "\n",
    "给你一个字符串数组 `words` 和一个字符串 `pref` 。\n",
    "\n",
    "返回 `words` 中以 `pref` 作为 **前缀** 的字符串的数目。\n",
    "\n",
    "字符串 `s` 的 **前缀** 就是 `s` 的任一前导连续字符串。\n",
    "\n",
    "#### 示例 1：\n",
    "\n",
    "**输入：** words = [\"pay\",\"attention\",\"practice\",\"attend\"], pref = \"at\"  \n",
    "**输出：** 2  \n",
    "**解释：** 以 \"at\" 作为前缀的字符串有两个，分别是：\"attention\" 和 \"attend\"。\n",
    "\n",
    "#### 示例 2：\n",
    "\n",
    "**输入：** words = [\"leetcode\",\"win\",\"loops\",\"success\"], pref = \"code\"  \n",
    "**输出：** 0  \n",
    "**解释：** 不存在以 \"code\" 作为前缀的字符串。\n",
    "\n",
    "#### 提示：\n",
    "\n",
    "- `1 <= words.length <= 100`\n",
    "- `1 <= words[i].length, pref.length <= 100`\n",
    "- `words[i]` 和 `pref` 仅由小写英文字母组成。\n"
   ]
  },
  {
   "cell_type": "code",
   "execution_count": 6,
   "metadata": {},
   "outputs": [],
   "source": [
    "from typing import List\n",
    "\n",
    "\n",
    "class Solution:\n",
    "    def prefixCount(self, words: List[str], pref: str) -> int:\n",
    "        n = len(pref)\n",
    "        ans = 0\n",
    "        for word in words:\n",
    "            if len(word) < n:\n",
    "                continue\n",
    "            if word[:n] == pref:\n",
    "                ans += 1\n",
    "\n",
    "        return ans\n"
   ]
  },
  {
   "cell_type": "code",
   "execution_count": 3,
   "metadata": {},
   "outputs": [],
   "source": [
    "words = [\"pay\",\"attention\",\"practice\",\"attend\"]\n",
    "pref = \"at\""
   ]
  },
  {
   "cell_type": "code",
   "execution_count": 7,
   "metadata": {},
   "outputs": [
    {
     "name": "stdout",
     "output_type": "stream",
     "text": [
      "2\n"
     ]
    }
   ],
   "source": [
    "print(Solution().prefixCount(words, pref))"
   ]
  },
  {
   "cell_type": "markdown",
   "metadata": {},
   "source": [
    "一次过 22.28% 但是差距都不大"
   ]
  }
 ],
 "metadata": {
  "kernelspec": {
   "display_name": "Python 3",
   "language": "python",
   "name": "python3"
  },
  "language_info": {
   "codemirror_mode": {
    "name": "ipython",
    "version": 3
   },
   "file_extension": ".py",
   "mimetype": "text/x-python",
   "name": "python",
   "nbconvert_exporter": "python",
   "pygments_lexer": "ipython3",
   "version": "3.12.1"
  }
 },
 "nbformat": 4,
 "nbformat_minor": 2
}
