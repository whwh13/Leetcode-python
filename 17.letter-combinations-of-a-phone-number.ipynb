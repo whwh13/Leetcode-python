{
 "cells": [
  {
   "cell_type": "markdown",
   "metadata": {},
   "source": [
    "### [17. 电话号码的字母组合](https://leetcode.com/problems/letter-combinations-of-a-phone-number/)\n",
    "\n",
    "给定一个仅包含数字 `2-9` 的字符串，返回所有它能表示的字母组合。答案可以按 **任意顺序** 返回。\n",
    "\n",
    "给出数字到字母的映射如下（与电话按键相同）。注意 1 不对应任何字母。\n",
    "\n",
    "![电话按键](https://assets.leetcode-cn.com/aliyun-lc-upload/uploads/2021/11/09/200px-telephone-keypad2svg.png)\n",
    "\n",
    "#### 示例 1：\n",
    "\n",
    "**输入：** digits = \"23\"  \n",
    "**输出：** [\"ad\",\"ae\",\"af\",\"bd\",\"be\",\"bf\",\"cd\",\"ce\",\"cf\"]\n",
    "\n",
    "#### 示例 2：\n",
    "\n",
    "**输入：** digits = \"\"  \n",
    "**输出：** []\n",
    "\n",
    "#### 示例 3：\n",
    "\n",
    "**输入：** digits = \"2\"  \n",
    "**输出：** [\"a\",\"b\",\"c\"]\n",
    "\n",
    "#### 提示：\n",
    "\n",
    "- `0 <= digits.length <= 4`\n",
    "- `digits[i]` 是范围 `['2', '9']` 的一个数字。\n"
   ]
  },
  {
   "cell_type": "code",
   "execution_count": 22,
   "metadata": {},
   "outputs": [],
   "source": [
    "from typing import List\n",
    "from collections import defaultdict\n",
    "\n",
    "class Solution:\n",
    "    def letterCombinations(self, digits: str) -> List[str]:\n",
    "        numAndLetter = defaultdict(list)\n",
    "        numAndLetter['2'] = ['a', 'b', 'c']\n",
    "        numAndLetter['3'] = ['d', 'e', 'f']\n",
    "        numAndLetter['4'] = ['g', 'h', 'i']\n",
    "        numAndLetter['5'] = ['j', 'k', 'l']\n",
    "        numAndLetter['6'] = ['m', 'n', 'o']\n",
    "        numAndLetter['7'] = ['p', 'q', 'r', 's']\n",
    "        numAndLetter['8'] = ['t', 'u', 'v']\n",
    "        numAndLetter['9'] = ['w', 'x', 'y', 'z']\n",
    "        if len(digits) == 0:\n",
    "            return []\n",
    "        ans = numAndLetter[digits[0]]\n",
    "        for k in range(1,len(digits)):\n",
    "            anst = []\n",
    "            for char in numAndLetter[digits[k]]:\n",
    "                anst += [item + char for item in ans]\n",
    "            ans = anst\n",
    "        return ans"
   ]
  },
  {
   "cell_type": "code",
   "execution_count": 6,
   "metadata": {},
   "outputs": [],
   "source": [
    "digits = \"23\""
   ]
  },
  {
   "cell_type": "code",
   "execution_count": 7,
   "metadata": {},
   "outputs": [
    {
     "name": "stdout",
     "output_type": "stream",
     "text": [
      "None\n"
     ]
    }
   ],
   "source": [
    "print(Solution().letterCombinations(digits))"
   ]
  },
  {
   "cell_type": "markdown",
   "metadata": {},
   "source": [
    "测试哈希表语法"
   ]
  },
  {
   "cell_type": "code",
   "execution_count": 19,
   "metadata": {},
   "outputs": [],
   "source": [
    "numAndLetter = defaultdict(list)\n",
    "numAndLetter['2'] = ['a', 'b', 'c']\n",
    "numAndLetter['3'] = ['d', 'e', 'f']\n",
    "numAndLetter['4'] = ['g', 'h', 'i']\n",
    "numAndLetter['5'] = ['j', 'k', 'l']\n",
    "numAndLetter['6'] = ['m', 'n', 'o']\n",
    "numAndLetter['7'] = ['p', 'q', 'r', 's']\n",
    "numAndLetter['8'] = ['t', 'u', 'v']\n",
    "numAndLetter['9'] = ['w', 'x', 'y', 'z']"
   ]
  },
  {
   "cell_type": "code",
   "execution_count": 21,
   "metadata": {},
   "outputs": [
    {
     "name": "stdout",
     "output_type": "stream",
     "text": [
      "['dgj', 'egj', 'fgj', 'dhj', 'ehj', 'fhj', 'dij', 'eij', 'fij', 'dgk', 'egk', 'fgk', 'dhk', 'ehk', 'fhk', 'dik', 'eik', 'fik', 'dgl', 'egl', 'fgl', 'dhl', 'ehl', 'fhl', 'dil', 'eil', 'fil']\n"
     ]
    }
   ],
   "source": [
    "test = \"345\"\n",
    "ans = numAndLetter[test[0]]\n",
    "for k in range(1,len(test)):\n",
    "    anst = []\n",
    "    for char in numAndLetter[test[k]]:\n",
    "        anst += [item + char for item in ans]\n",
    "    ans = anst\n",
    "print(ans)"
   ]
  }
 ],
 "metadata": {
  "kernelspec": {
   "display_name": "Python 3",
   "language": "python",
   "name": "python3"
  },
  "language_info": {
   "codemirror_mode": {
    "name": "ipython",
    "version": 3
   },
   "file_extension": ".py",
   "mimetype": "text/x-python",
   "name": "python",
   "nbconvert_exporter": "python",
   "pygments_lexer": "ipython3",
   "version": "3.12.1"
  }
 },
 "nbformat": 4,
 "nbformat_minor": 2
}
