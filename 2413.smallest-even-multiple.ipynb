{
 "cells": [
  {
   "cell_type": "markdown",
   "metadata": {},
   "source": [
    "## [2413. 最小偶倍数](https://leetcode.cn/problems/smallest-even-multiple/)\n",
    "\n",
    "### 题目描述\n",
    "\n",
    "给你一个正整数 `n`，返回 `2` 和 `n` 的最小公倍数（正整数）。\n",
    "\n",
    "### 示例 1：\n",
    "**输入**：n = 5  \n",
    "**输出**：10  \n",
    "**解释**：5 和 2 的最小公倍数是 10。\n",
    "\n",
    "### 示例 2：\n",
    "**输入**：n = 6  \n",
    "**输出**：6  \n",
    "**解释**：6 和 2 的最小公倍数是 6。注意数字会是它自身的倍数。\n",
    "\n",
    "### 提示：\n",
    "- `1 <= n <= 150`"
   ]
  },
  {
   "cell_type": "markdown",
   "metadata": {},
   "source": [
    "如果这个数本身是2的倍数，那么直接返回这个数即可，否则返回这个数的2倍。\n",
    "这个论断包含了这个数是1的情况"
   ]
  },
  {
   "cell_type": "code",
   "execution_count": 1,
   "metadata": {},
   "outputs": [],
   "source": [
    "class Solution:\n",
    "    def smallestEvenMultiple(self, n: int) -> int:\n",
    "        if n % 2 == 1:\n",
    "            n = 2*n\n",
    "        return n"
   ]
  }
 ],
 "metadata": {
  "kernelspec": {
   "display_name": "Python 3",
   "language": "python",
   "name": "python3"
  },
  "language_info": {
   "codemirror_mode": {
    "name": "ipython",
    "version": 3
   },
   "file_extension": ".py",
   "mimetype": "text/x-python",
   "name": "python",
   "nbconvert_exporter": "python",
   "pygments_lexer": "ipython3",
   "version": "3.12.1"
  }
 },
 "nbformat": 4,
 "nbformat_minor": 2
}
