{
 "cells": [
  {
   "cell_type": "markdown",
   "metadata": {},
   "source": [
    "## [633. 平方数之和](https://example.com/problems/sum-of-square-numbers/)\n",
    "\n",
    "给定一个非负整数 `c`，判断是否存在两个整数 `a` 和 `b`，使得 `a^2 + b^2 = c`。\n",
    "\n",
    "### 示例\n",
    "\n",
    "**示例 1：**\n",
    "\n",
    "输入：\n",
    "```\n",
    "c = 5\n",
    "```\n",
    "输出：\n",
    "```\n",
    "true\n",
    "```\n",
    "解释：1 * 1 + 2 * 2 = 5\n",
    "\n",
    "**示例 2：**\n",
    "\n",
    "输入：\n",
    "```\n",
    "c = 3\n",
    "```\n",
    "输出：\n",
    "```\n",
    "false\n",
    "```\n",
    "\n",
    "### 提示\n",
    "\n",
    "- `0 <= c <= 2^31 - 1`\n",
    "\n"
   ]
  },
  {
   "cell_type": "markdown",
   "metadata": {},
   "source": []
  },
  {
   "cell_type": "code",
   "execution_count": null,
   "metadata": {},
   "outputs": [],
   "source": [
    "class Solution:\n",
    "    def judgeSquareSum(self, c: int) -> bool:\n",
    "        "
   ]
  }
 ],
 "metadata": {
  "kernelspec": {
   "display_name": "Python 3",
   "language": "python",
   "name": "python3"
  },
  "language_info": {
   "name": "python",
   "version": "3.12.1"
  }
 },
 "nbformat": 4,
 "nbformat_minor": 2
}
