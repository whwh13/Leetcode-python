{
 "cells": [
  {
   "cell_type": "markdown",
   "metadata": {},
   "source": [
    "### [2516. 每种字符至少取 K 个](https://leetcode.com/problems/take-k-of-each-character-from-left-and-right/)\n",
    "\n",
    "给你一个由字符 `'a'`、`'b'`、`'c'` 组成的字符串 `s` 和一个非负整数 `k`。每分钟，你可以选择取走 `s` **最左侧** 或 **最右侧** 的那个字符。\n",
    "\n",
    "你必须取走每种字符 **至少** `k` 个，返回需要的 **最少** 分钟数；如果无法取到，则返回 `-1`。\n",
    "\n",
    "#### 示例 1：\n",
    "\n",
    "**输入：** s = \"aabaaaacaabc\", k = 2  \n",
    "**输出：** 8  \n",
    "**解释：**  \n",
    "从 s 的左侧取三个字符，现在共取到两个字符 'a' 、一个字符 'b' 。  \n",
    "从 s 的右侧取五个字符，现在共取到四个字符 'a' 、两个字符 'b' 和两个字符 'c' 。  \n",
    "共需要 3 + 5 = 8 分钟。  \n",
    "可以证明需要的最少分钟数是 8 。\n",
    "\n",
    "#### 示例 2：\n",
    "\n",
    "**输入：** s = \"a\", k = 1  \n",
    "**输出：** -1  \n",
    "**解释：**  \n",
    "无法取到一个字符 'b' 或者 'c'，所以返回 -1 。\n",
    "\n",
    "#### 提示：\n",
    "\n",
    "- `1 <= s.length <= 10^5`\n",
    "- `s` 仅由字母 `'a'`、`'b'`、`'c'` 组成\n",
    "- `0 <= k <= s.length`\n"
   ]
  },
  {
   "cell_type": "markdown",
   "metadata": {},
   "source": [
    "## 解题\n",
    "\n",
    "只需要取三种字符，所以可以相对简化的更新，可以整体遍历一次做个表，两个表然后从表里选\n",
    "\n",
    "对三种字符分别求，然后取最大就行\n",
    "三种字符也可以放在一起\n",
    "\n",
    "也不对，比如a是20可能只能从右边，b是10只能从坐标，那就是30而不是20\n",
    "\n",
    "那就有一个索引k同时从左和右边索引直到中间，期间记录每一个字符的数量？\n",
    "也不对，比如左边第二个a到10，右边没有a 和 右边直接有两个a是不同的\n",
    "这可以用两个记录点解决，每次获得新的字符时更新记录点\n",
    "但是记录点还是没法解决上面的问题\n",
    "\n",
    "还有了一个问题，左右加起来到了20，但是右边继续往前走1，11就能满足\n",
    "这个思路不行，至少需要整体遍历一次\n"
   ]
  },
  {
   "cell_type": "markdown",
   "metadata": {},
   "source": [
    "## 新思路\n",
    "\n",
    "先最复杂的，遍历三遍吧，左、右然后两端一起"
   ]
  },
  {
   "cell_type": "code",
   "execution_count": null,
   "metadata": {},
   "outputs": [],
   "source": [
    "def left(s: str, k: int) -> int:\n",
    "    for char in s:\n",
    "        if char == 'a':\n",
    "            numA += 1\n",
    "        elif char == 'b':\n",
    "            numB += 1\n",
    "        else:\n",
    "            numC += 1\n",
    "        if numA>=k and numB>=k and numC>=k:\n",
    "            return numA+numB+numC\n",
    "    return -1"
   ]
  },
  {
   "cell_type": "code",
   "execution_count": null,
   "metadata": {},
   "outputs": [],
   "source": [
    "def right(s: str, k: int) -> int:\n",
    "    for char in s[::-1]:\n",
    "        if char == 'a':\n",
    "            numA += 1\n",
    "        elif char == 'b':\n",
    "            numB += 1\n",
    "        else:\n",
    "            numC += 1\n",
    "        if numA>=k and numB>=k and numC>=k:\n",
    "            return numA+numB+numC\n",
    "    return -1"
   ]
  },
  {
   "cell_type": "code",
   "execution_count": null,
   "metadata": {},
   "outputs": [],
   "source": [
    "def both(s: str, k: int) -> int:\n",
    "    left = 0\n",
    "    \n",
    "    for char, char2 in zip(s, s[::-1]):\n"
   ]
  },
  {
   "cell_type": "code",
   "execution_count": 2,
   "metadata": {},
   "outputs": [
    {
     "ename": "SyntaxError",
     "evalue": "incomplete input (3922537296.py, line 2)",
     "output_type": "error",
     "traceback": [
      "\u001b[0;36m  Cell \u001b[0;32mIn[2], line 2\u001b[0;36m\u001b[0m\n\u001b[0;31m    def takeCharacters(self, s: str, k: int) -> int:\u001b[0m\n\u001b[0m                                                    ^\u001b[0m\n\u001b[0;31mSyntaxError\u001b[0m\u001b[0;31m:\u001b[0m incomplete input\n"
     ]
    }
   ],
   "source": [
    "class Solution:\n",
    "    def takeCharacters(self, s: str, k: int) -> int:\n",
    "        return min(left(s,k),right(s,k),both(s,k))\n"
   ]
  },
  {
   "cell_type": "markdown",
   "metadata": {},
   "source": [
    "有点太难了，有空再说吧"
   ]
  }
 ],
 "metadata": {
  "kernelspec": {
   "display_name": "Python 3",
   "language": "python",
   "name": "python3"
  },
  "language_info": {
   "codemirror_mode": {
    "name": "ipython",
    "version": 3
   },
   "file_extension": ".py",
   "mimetype": "text/x-python",
   "name": "python",
   "nbconvert_exporter": "python",
   "pygments_lexer": "ipython3",
   "version": "3.12.1"
  }
 },
 "nbformat": 4,
 "nbformat_minor": 2
}
