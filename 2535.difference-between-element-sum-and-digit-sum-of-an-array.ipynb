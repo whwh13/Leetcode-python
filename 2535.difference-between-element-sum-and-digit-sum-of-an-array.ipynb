{
 "cells": [
  {
   "cell_type": "markdown",
   "metadata": {},
   "source": [
    "### [2535. 数组元素和与数字和的绝对差](https://leetcode.com/problems/difference-between-element-sum-and-digit-sum-of-an-array/)\n",
    "\n",
    "给你一个正整数数组 `nums`。\n",
    "\n",
    "- **元素和** 是 `nums` 中的所有元素相加求和。\n",
    "- **数字和** 是 `nums` 中每一个元素的每一数位（重复数位需多次求和）相加求和。\n",
    "\n",
    "返回 **元素和** 与 **数字和** 的绝对差。\n",
    "\n",
    "**注意：** 两个整数 `x` 和 `y` 的绝对差定义为 `|x - y|` 。\n",
    "\n",
    "#### 示例 1：\n",
    "\n",
    "**输入：** nums = [1,15,6,3]  \n",
    "**输出：** 9  \n",
    "**解释：**  \n",
    "nums 的元素和是 1 + 15 + 6 + 3 = 25 。  \n",
    "nums 的数字和是 1 + 1 + 5 + 6 + 3 = 16 。  \n",
    "元素和与数字和的绝对差是 |25 - 16| = 9 。\n",
    "\n",
    "#### 示例 2：\n",
    "\n",
    "**输入：** nums = [1,2,3,4]  \n",
    "**输出：** 0  \n",
    "**解释：**  \n",
    "nums 的元素和是 1 + 2 + 3 + 4 = 10 。  \n",
    "nums 的数字和是 1 + 2 + 3 + 4 = 10 。  \n",
    "元素和与数字和的绝对差是 |10 - 10| = 0 。\n",
    "\n",
    "#### 提示：\n",
    "\n",
    "- `1 <= nums.length <= 2000`\n",
    "- `1 <= nums[i] <= 2000`\n"
   ]
  },
  {
   "cell_type": "code",
   "execution_count": 2,
   "metadata": {},
   "outputs": [],
   "source": [
    "from typing import List\n",
    "\n",
    "\n",
    "class Solution:\n",
    "    def differenceOfSum(self, nums: List[int]) -> int:\n",
    "        ans = 0\n",
    "        for num in nums:\n",
    "            t, num = divmod(num, 1000)\n",
    "            h, num = divmod(num, 100)\n",
    "            te, num = divmod(num, 10)\n",
    "            ans += t*999+h*99+te*9\n",
    "        return ans\n",
    "\n"
   ]
  },
  {
   "cell_type": "markdown",
   "metadata": {},
   "source": [
    "一次过，太简单了"
   ]
  }
 ],
 "metadata": {
  "kernelspec": {
   "display_name": "Python 3",
   "language": "python",
   "name": "python3"
  },
  "language_info": {
   "codemirror_mode": {
    "name": "ipython",
    "version": 3
   },
   "file_extension": ".py",
   "mimetype": "text/x-python",
   "name": "python",
   "nbconvert_exporter": "python",
   "pygments_lexer": "ipython3",
   "version": "3.12.1"
  }
 },
 "nbformat": 4,
 "nbformat_minor": 2
}
