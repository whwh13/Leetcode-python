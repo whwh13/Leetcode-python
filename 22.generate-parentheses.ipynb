{
 "cells": [
  {
   "cell_type": "markdown",
   "metadata": {},
   "source": [
    "### 22. 括号生成\n",
    "\n",
    "数字 `n` 代表生成括号的对数，请你设计一个函数，用于能够生成所有可能的并且 **有效的** 括号组合。\n",
    "\n",
    "#### 示例 1：\n",
    "**输入**：`n = 3`  \n",
    "**输出**：`[\"((()))\",\"(()())\",\"(())()\",\"()(())\",\"()()()\"]`\n",
    "\n",
    "#### 示例 2：\n",
    "**输入**：`n = 1`  \n",
    "**输出**：`[\"()\"]`\n",
    "\n",
    "#### 提示：\n",
    "- `1 <= n <= 8`\n"
   ]
  },
  {
   "cell_type": "markdown",
   "metadata": {},
   "source": [
    "## 解题\n",
    "\n",
    "`1 <= n <= 8`，我好像可以直接把结果存进来\n",
    "\n",
    "这个肯定是要用递归的\n",
    "在每一项左侧放一个左括号，剩下所有的可能位置放右括号，貌似就能，至少对于前3个是可以的\n",
    "\n",
    "有没有可能重复\n",
    "貌似是不会重复的，但是怎么证明不会重复\n",
    "先不证明，先写出来试试"
   ]
  },
  {
   "cell_type": "code",
   "execution_count": 9,
   "metadata": {},
   "outputs": [],
   "source": [
    "from typing import List\n",
    "\n",
    "\n",
    "class Solution:\n",
    "    def generateParenthesis(self, n: int) -> List[str]:\n",
    "        if n == 1:\n",
    "            return [\"()\"]\n",
    "        last = self.generateParenthesis(n-1)\n",
    "        ans = []\n",
    "        for last0 in last:\n",
    "            norm = 0\n",
    "            ans.append(\"()\"+last0)\n",
    "            for k in range(len(last0)):\n",
    "                if last0[k] == '(':\n",
    "                    norm += 1\n",
    "                else:\n",
    "                    norm -= 1\n",
    "                if norm == 0:\n",
    "                    ans.append('('+last0[:k]+')'+last0[k:])\n",
    "        return ans"
   ]
  },
  {
   "cell_type": "code",
   "execution_count": 10,
   "metadata": {},
   "outputs": [],
   "source": [
    "n = 3"
   ]
  },
  {
   "cell_type": "code",
   "execution_count": 11,
   "metadata": {},
   "outputs": [
    {
     "name": "stdout",
     "output_type": "stream",
     "text": [
      "['()()()', '(())()', '(()())', '()(())', '((()))']\n"
     ]
    }
   ],
   "source": [
    "print(Solution().generateParenthesis(n))"
   ]
  },
  {
   "cell_type": "markdown",
   "metadata": {},
   "source": [
    "## 结果\n",
    "\n",
    "直接过了？\n",
    "代表上面的猜想是正确的\n",
    "但是为什么呢"
   ]
  }
 ],
 "metadata": {
  "kernelspec": {
   "display_name": "Python 3",
   "language": "python",
   "name": "python3"
  },
  "language_info": {
   "codemirror_mode": {
    "name": "ipython",
    "version": 3
   },
   "file_extension": ".py",
   "mimetype": "text/x-python",
   "name": "python",
   "nbconvert_exporter": "python",
   "pygments_lexer": "ipython3",
   "version": "3.12.1"
  }
 },
 "nbformat": 4,
 "nbformat_minor": 2
}
