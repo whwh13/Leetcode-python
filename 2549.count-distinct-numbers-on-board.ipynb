{
 "cells": [
  {
   "cell_type": "markdown",
   "metadata": {},
   "source": [
    "## 2549. 统计桌面上的不同数字\n",
    "\n",
    "给你一个正整数 `n`，开始时，它放在桌面上。在 `10^9` 天内，每天都要执行下述步骤：\n",
    "\n",
    "- 对于出现在桌面上的每个数字 `x`，找出符合 `1 <= i <= n` 且满足 `x % i == 1` 的所有数字 `i`。\n",
    "- 然后，将这些数字放在桌面上。\n",
    "\n",
    "返回在 `10^9` 天之后，出现在桌面上的 **不同** 整数的数目。\n",
    "\n",
    "**注意:**\n",
    "\n",
    "- 一旦数字放在桌面上，则会一直保留到结束。\n",
    "- `%` 表示取余运算。例如，`14 % 3` 等于 `2`。\n",
    "\n",
    "**示例 1:**\n",
    "\n",
    "**输入:** `n = 5`  \n",
    "**输出:** `4`\n",
    "\n",
    "**解释:**\n",
    "- 最开始，5 在桌面上。\n",
    "- 第一天，2 和 4 出现在桌面上，因为 `5 % 2 == 1` 且 `5 % 4 == 1`。\n",
    "- 再过一天 3 也出现在桌面上，因为 `4 % 3 == 1`。\n",
    "- 在十亿天结束时，桌面上的不同数字有 `2`、`3`、`4`、`5`。\n",
    "\n",
    "**示例 2:**\n",
    "\n",
    "**输入:** `n = 3`  \n",
    "**输出:** `2`\n",
    "\n",
    "**解释:**\n",
    "- 因为 `3 % 2 == 1`，2 也出现在桌面上。\n",
    "- 在十亿天结束时，桌面上的不同数字只有两个：`2` 和 `3`。\n",
    "\n",
    "**提示:**\n",
    "\n",
    "- `1 <= n <= 100`\n",
    "\n",
    "---"
   ]
  },
  {
   "cell_type": "markdown",
   "metadata": {},
   "source": [
    "## 分析\n",
    "\n",
    "总时长为10^9天，表示次数几乎为无穷，而根据题意，`x % i == 1`当`i=x-1`时必然成立，所以最终结果会是小于`n`的所有数，但是1不是，因为1可以整除所有数。"
   ]
  },
  {
   "cell_type": "code",
   "execution_count": 4,
   "metadata": {},
   "outputs": [],
   "source": [
    "class Solution:\n",
    "    def distinctIntegers(self, n: int) -> int:\n",
    "        if n==1:\n",
    "            return 0\n",
    "        return n-1"
   ]
  },
  {
   "cell_type": "code",
   "execution_count": 5,
   "metadata": {},
   "outputs": [],
   "source": [
    "n = 1"
   ]
  },
  {
   "cell_type": "code",
   "execution_count": 6,
   "metadata": {},
   "outputs": [
    {
     "name": "stdout",
     "output_type": "stream",
     "text": [
      "0\n"
     ]
    },
    {
     "ename": "",
     "evalue": "",
     "output_type": "error",
     "traceback": [
      "\u001b[1;31m在当前单元格或上一个单元格中执行代码时 Kernel 崩溃。\n",
      "\u001b[1;31m请查看单元格中的代码，以确定故障的可能原因。\n",
      "\u001b[1;31m单击<a href='https://aka.ms/vscodeJupyterKernelCrash'>此处</a>了解详细信息。\n",
      "\u001b[1;31m有关更多详细信息，请查看 Jupyter <a href='command:jupyter.viewOutput'>log</a>。"
     ]
    }
   ],
   "source": [
    "print(Solution().distinctIntegers(n))"
   ]
  }
 ],
 "metadata": {
  "kernelspec": {
   "display_name": "Python 3",
   "language": "python",
   "name": "python3"
  },
  "language_info": {
   "codemirror_mode": {
    "name": "ipython",
    "version": 3
   },
   "file_extension": ".py",
   "mimetype": "text/x-python",
   "name": "python",
   "nbconvert_exporter": "python",
   "pygments_lexer": "ipython3",
   "version": "3.10.11"
  }
 },
 "nbformat": 4,
 "nbformat_minor": 2
}
