{
 "cells": [
  {
   "cell_type": "markdown",
   "metadata": {},
   "source": [
    "## [3200. 三角形的最大高度](https://example.com/problems/maximum-height-of-a-triangle/)\n",
    "\n",
    "给你两个整数 `red` 和 `blue`，分别表示红色球和蓝色球的数量。你需要使用这些球来组成一个三角形，满足第 1 行有 1 个球，第 2 行有 2 个球，第 3 行有 3 个球，依此类推。\n",
    "\n",
    "每一行的球必须是 **相同** 颜色，且相邻行的颜色必须**不同**。\n",
    "\n",
    "返回可以实现的三角形的 **最大** 高度。\n",
    "\n",
    "### 示例 1：\n",
    "\n",
    "**输入：**\n",
    "```\n",
    "red = 2, blue = 4\n",
    "```\n",
    "**输出：**\n",
    "```\n",
    "3\n",
    "```\n",
    "**解释：**\n",
    "\n",
    "![Example 1](https://assets.leetcode.com/uploads/2024/06/16/brb.png)\n",
    "\n",
    "上图显示了唯一可能的排列方式。\n",
    "\n",
    "### 示例 2：\n",
    "\n",
    "**输入：**\n",
    "```\n",
    "red = 2, blue = 1\n",
    "```\n",
    "**输出：**\n",
    "```\n",
    "2\n",
    "```\n",
    "**解释：**\n",
    "\n",
    "![Example 2](https://assets.leetcode.com/uploads/2024/06/16/br.png)\n",
    "\n",
    "上图显示了唯一可能的排列方式。\n",
    "\n",
    "### 示例 3：\n",
    "\n",
    "**输入：**\n",
    "```\n",
    "red = 1, blue = 1\n",
    "```\n",
    "**输出：**\n",
    "```\n",
    "1\n",
    "```\n",
    "\n",
    "### 示例 4：\n",
    "\n",
    "**输入：**\n",
    "```\n",
    "red = 10, blue = 1\n",
    "```\n",
    "**输出：**\n",
    "```\n",
    "2\n",
    "```\n",
    "**解释：**\n",
    "\n",
    "![Example 4](https://assets.leetcode.com/uploads/2024/06/16/br.png)\n",
    "\n",
    "上图显示了唯一可能的排列方式。\n",
    "\n",
    "### 提示：\n",
    "\n",
    "- `1 <= red, blue <= 100`\n",
    "\n"
   ]
  },
  {
   "cell_type": "markdown",
   "metadata": {},
   "source": [
    "思路：分别计算红和蓝在奇数层和偶数层分别能放几层，然后取小者加一即可"
   ]
  },
  {
   "cell_type": "code",
   "execution_count": 26,
   "metadata": {},
   "outputs": [],
   "source": [
    "import math\n",
    "\n",
    "\n",
    "class Solution:\n",
    "    def maxHeightOfTriangle(self, red: int, blue: int) -> int:\n",
    "        redOdd = math.isqrt(red)\n",
    "        blueOdd = math.isqrt(blue)\n",
    "        redEven = (math.isqrt(1+4*red)-1)//2\n",
    "        blueEven = (math.isqrt(1+4*blue)-1)//2\n",
    "\n",
    "        print(redOdd)\n",
    "        print(blueOdd)\n",
    "        print(redEven)\n",
    "        print(blueEven)\n",
    "\n",
    "        if redOdd > blueEven:\n",
    "            ans1 = 2*blueEven+1\n",
    "        elif redOdd == blueEven:\n",
    "            ans1 = 2*blueEven\n",
    "        else:\n",
    "            ans1 = 2*redOdd\n",
    "        \n",
    "        if blueOdd > redEven:\n",
    "            ans2 = 2*redEven+1\n",
    "        elif blueOdd == redEven:\n",
    "            ans2 = 2*redEven\n",
    "        else:\n",
    "            ans2 = 2*blueOdd\n",
    "        return max(ans1,ans2)"
   ]
  },
  {
   "cell_type": "code",
   "execution_count": 27,
   "metadata": {},
   "outputs": [],
   "source": [
    "red = 10\n",
    "blue = 1"
   ]
  },
  {
   "cell_type": "code",
   "execution_count": 28,
   "metadata": {},
   "outputs": [
    {
     "name": "stdout",
     "output_type": "stream",
     "text": [
      "3\n",
      "1\n",
      "2\n",
      "0\n",
      "1\n"
     ]
    }
   ],
   "source": [
    "print(Solution().maxHeightOfTriangle(red,blue))"
   ]
  }
 ],
 "metadata": {
  "kernelspec": {
   "display_name": "Python 3",
   "language": "python",
   "name": "python3"
  },
  "language_info": {
   "codemirror_mode": {
    "name": "ipython",
    "version": 3
   },
   "file_extension": ".py",
   "mimetype": "text/x-python",
   "name": "python",
   "nbconvert_exporter": "python",
   "pygments_lexer": "ipython3",
   "version": "3.12.1"
  }
 },
 "nbformat": 4,
 "nbformat_minor": 2
}
