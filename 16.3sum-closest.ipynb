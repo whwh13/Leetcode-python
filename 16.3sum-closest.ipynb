{
 "cells": [
  {
   "cell_type": "markdown",
   "metadata": {},
   "source": [
    "### [16. 最接近的三数之和](https://leetcode.com/problems/3sum-closest/)\n",
    "\n",
    "给你一个长度为 `n` 的整数数组 `nums` 和一个目标值 `target`。请你从 `nums` 中选出三个整数，使它们的和与 `target` 最接近。\n",
    "\n",
    "返回这三个数的和。\n",
    "\n",
    "假定每组输入只存在恰好一个解。\n",
    "\n",
    "#### 示例 1：\n",
    "\n",
    "**输入：** nums = [-1,2,1,-4], target = 1  \n",
    "**输出：** 2  \n",
    "**解释：** 与 target 最接近的和是 2 (-1 + 2 + 1 = 2)。\n",
    "\n",
    "#### 示例 2：\n",
    "\n",
    "**输入：** nums = [0,0,0], target = 1  \n",
    "**输出：** 0  \n",
    "**解释：** 与 target 最接近的和是 0（0 + 0 + 0 = 0）。\n",
    "\n",
    "#### 提示：\n",
    "\n",
    "- `3 <= nums.length <= 1000`\n",
    "- `-1000 <= nums[i] <= 1000`\n",
    "- `-10^4 <= target <= 10^4`\n"
   ]
  },
  {
   "cell_type": "markdown",
   "metadata": {},
   "source": [
    "这里以15的思路进行分析先试试\n",
    "\n",
    "15其实也是看的题解\n",
    "\n",
    "首先排序\n",
    "\n",
    "然后设置三个指针，i表示最左数，当i>target+gap，直接返回target+gap或者target-gap\n",
    "\n",
    "存储gap、sign，分别表示gap是正的还是负的  **sign存在的目的是决定最后的输出**\n",
    "\n",
    "k表示最右数，从最右n开始，不使用for遍历\n",
    "\n",
    "j表示中间的数，使用for遍历，for j in range(i+1,n-1)\n",
    "\n",
    "计算`nums[i]+nums[j]+nums[k]`\n",
    "\n",
    "**下面的思路都是15的题解的思路**\n",
    "\n",
    "if j>i+1 and nums[j]==nums[j-1]:    **不需要，这里相同的数不影响**\n",
    "                    continue\n",
    "\n",
    "while nums[i] + nums[j] + nums[k]>target+gap and k>j:\n",
    "k-=1\n",
    "\n",
    "if k<=j:\n",
    "                    break\n",
    "\n",
    "if abs(target-(nums[i] + nums[j] + nums[k])) < gap\n",
    "    gap = abs(target-(nums[i] + nums[j] + nums[k]))\n",
    "    sign = \n",
    "\n",
    "\n"
   ]
  },
  {
   "cell_type": "code",
   "execution_count": 7,
   "metadata": {},
   "outputs": [],
   "source": [
    "from typing import List\n",
    "\n",
    "def abs_and_sign(x):\n",
    "    abs_val = abs(x)\n",
    "    sign = 1 if x >= 0 else -1\n",
    "    return abs_val, sign\n",
    "\n",
    "class Solution:\n",
    "    def threeSumClosest(self, nums: List[int], target: int) -> int:\n",
    "        n=len(nums)\n",
    "        nums.sort()\n",
    "        gap, sign = abs_and_sign(nums[0]+nums[1]+nums[2]-target)\n",
    "\n",
    "        for i in range(n-2):\n",
    "            if nums[i]+nums[i+1]+nums[i+2] >= target+gap:\n",
    "                break\n",
    "            k = n-1\n",
    "            for j in range(i+1,n-1):\n",
    "                while (nums[i]+nums[j]+nums[k]) >= (target+gap) and k>j:\n",
    "                    k-=1\n",
    "                if k<=j:\n",
    "                    break\n",
    "                gap1, sign1 = abs_and_sign(nums[i]+nums[j]+nums[k]-target)\n",
    "                if gap1 < gap:\n",
    "                    gap = gap1\n",
    "                    sign = sign1\n",
    "        return target+sign*gap"
   ]
  },
  {
   "cell_type": "code",
   "execution_count": 8,
   "metadata": {},
   "outputs": [],
   "source": [
    "nums = [-1,2,1,-4]\n",
    "target = 1"
   ]
  },
  {
   "cell_type": "code",
   "execution_count": 9,
   "metadata": {},
   "outputs": [
    {
     "name": "stdout",
     "output_type": "stream",
     "text": [
      "2\n"
     ]
    }
   ],
   "source": [
    "print(Solution().threeSumClosest(nums, target))"
   ]
  },
  {
   "cell_type": "markdown",
   "metadata": {},
   "source": [
    "竟然能通过？这次一次过了，还行还行"
   ]
  }
 ],
 "metadata": {
  "kernelspec": {
   "display_name": "Python 3 (ipykernel)",
   "language": "python",
   "name": "python3"
  },
  "language_info": {
   "codemirror_mode": {
    "name": "ipython",
    "version": 3
   },
   "file_extension": ".py",
   "mimetype": "text/x-python",
   "name": "python",
   "nbconvert_exporter": "python",
   "pygments_lexer": "ipython3",
   "version": "3.12.1"
  }
 },
 "nbformat": 4,
 "nbformat_minor": 2
}
