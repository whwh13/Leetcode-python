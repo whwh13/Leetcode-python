{
 "cells": [
  {
   "cell_type": "markdown",
   "metadata": {},
   "source": [
    "### [16. 最接近的三数之和](https://leetcode.com/problems/3sum-closest/)\n",
    "\n",
    "给你一个长度为 `n` 的整数数组 `nums` 和一个目标值 `target`。请你从 `nums` 中选出三个整数，使它们的和与 `target` 最接近。\n",
    "\n",
    "返回这三个数的和。\n",
    "\n",
    "假定每组输入只存在恰好一个解。\n",
    "\n",
    "#### 示例 1：\n",
    "\n",
    "**输入：** nums = [-1,2,1,-4], target = 1  \n",
    "**输出：** 2  \n",
    "**解释：** 与 target 最接近的和是 2 (-1 + 2 + 1 = 2)。\n",
    "\n",
    "#### 示例 2：\n",
    "\n",
    "**输入：** nums = [0,0,0], target = 1  \n",
    "**输出：** 0  \n",
    "**解释：** 与 target 最接近的和是 0（0 + 0 + 0 = 0）。\n",
    "\n",
    "#### 提示：\n",
    "\n",
    "- `3 <= nums.length <= 1000`\n",
    "- `-1000 <= nums[i] <= 1000`\n",
    "- `-10^4 <= target <= 10^4`\n"
   ]
  },
  {
   "cell_type": "markdown",
   "metadata": {},
   "source": [
    "这里以15的思路进行分析先试试\n",
    "15其实也是看的题解"
   ]
  },
  {
   "cell_type": "code",
   "execution_count": null,
   "metadata": {},
   "outputs": [],
   "source": [
    "from typing import List\n",
    "\n",
    "\n",
    "class Solution:\n",
    "    def threeSumClosest(self, nums: List[int], target: int) -> int:"
   ]
  }
 ],
 "metadata": {
  "kernelspec": {
   "display_name": "Python 3",
   "language": "python",
   "name": "python3"
  },
  "language_info": {
   "codemirror_mode": {
    "name": "ipython",
    "version": 3
   },
   "file_extension": ".py",
   "mimetype": "text/x-python",
   "name": "python",
   "nbconvert_exporter": "python",
   "pygments_lexer": "ipython3",
   "version": "3.12.1"
  }
 },
 "nbformat": 4,
 "nbformat_minor": 2
}
