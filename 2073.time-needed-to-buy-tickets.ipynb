{
 "cells": [
  {
   "cell_type": "markdown",
   "metadata": {},
   "source": [
    "### [2073. 买票需要的时间](https://leetcode.com/problems/time-needed-to-buy-tickets/)\n",
    "\n",
    "有 `n` 个人排队买票，其中第 `0` 个人站在队伍最前方，第 `(n-1)` 人站在队伍最后方。\n",
    "\n",
    "给你一个下标从 `0` 开始的整数数组 `tickets`，数组长度为 `n`，其中第 `i` 个人想要购买的票数为 `tickets[i]`。\n",
    "\n",
    "每个人买票需要用掉 **恰好 1 秒**。每次只能买一张票，如果一个人还需买更多票，他必须走到队伍 **尾部** 重新排队。如果一个人没有剩余票要买，他将会 **离开** 队伍。\n",
    "\n",
    "返回位于位置 `k`（下标从 `0` 开始）的人完成买票需要的时间（以秒为单位）。\n",
    "\n",
    "#### 示例 1：\n",
    "\n",
    "**输入：** tickets = [2, 3, 2], k = 2  \n",
    "**输出：** 6  \n",
    "**解释：**  \n",
    "- 队伍一开始为 [2,3,2]，第 k 个人标记为下划线：  \n",
    "  在最前面的人买票后，队伍在第 1 秒变为 [3,2,<u>1</u>]。  \n",
    "  在第 2 秒队伍变为 [2,1,<u>2</u>]。  \n",
    "  在第 3 秒队伍变为 [1,1,<u>1</u>]。  \n",
    "  在第 4 秒队伍变为 [2,<u>1</u>]。  \n",
    "  在第 5 秒队伍变为 [<u>1</u>,1]。  \n",
    "  在第 6 秒队伍变为 [1]，第 k 个人完成买票。\n",
    "\n",
    "#### 示例 2：\n",
    "\n",
    "**输入：** tickets = [5, 1, 1, 1], k = 0  \n",
    "**输出：** 8  \n",
    "**解释：**  \n",
    "- 队伍一开始为 [5,1,1,1]，第 k 个人标记为下划线：  \n",
    "  在第 1 秒后，队伍变为 [4,1,1,1]。  \n",
    "  第 2 到 5 秒队伍变为 [4]，第 k 个人需要 8 秒完成买票。\n",
    "\n",
    "#### 提示：\n",
    "\n",
    "- `n == tickets.length`\n",
    "- `1 <= n <= 100`\n",
    "- `1 <= tickets[i] <= 100`\n",
    "- `0 <= k < n`\n"
   ]
  },
  {
   "cell_type": "markdown",
   "metadata": {},
   "source": [
    "## 尝试使用数学分析\n",
    "一次遍历，首先确定第k个人买几张票，然后对于k之前的人，ans += min(tickets[k],tickets[x]),对于k之后的人，ans += min(tickets[k]-1,tickets[x])"
   ]
  },
  {
   "cell_type": "code",
   "execution_count": 4,
   "metadata": {},
   "outputs": [],
   "source": [
    "from typing import List\n",
    "\n",
    "\n",
    "class Solution:\n",
    "    def timeRequiredToBuy(self, tickets: List[int], k: int) -> int:\n",
    "        nk = tickets[k]\n",
    "        ans = 0\n",
    "        for i in range(0,k+1):\n",
    "            ans += min(tickets[i],nk)\n",
    "        for i in range(k+1,len(tickets)):\n",
    "            ans += min(tickets[i],nk-1)\n",
    "\n",
    "        return ans\n"
   ]
  },
  {
   "cell_type": "code",
   "execution_count": 5,
   "metadata": {},
   "outputs": [],
   "source": [
    "tickets = [2, 3, 2]\n",
    "k = 2"
   ]
  },
  {
   "cell_type": "code",
   "execution_count": 6,
   "metadata": {},
   "outputs": [
    {
     "name": "stdout",
     "output_type": "stream",
     "text": [
      "6\n"
     ]
    }
   ],
   "source": [
    "print(Solution().timeRequiredToBuy(tickets,k))"
   ]
  },
  {
   "cell_type": "markdown",
   "metadata": {},
   "source": [
    "评价为很简单，一次过"
   ]
  }
 ],
 "metadata": {
  "kernelspec": {
   "display_name": "Python 3",
   "language": "python",
   "name": "python3"
  },
  "language_info": {
   "codemirror_mode": {
    "name": "ipython",
    "version": 3
   },
   "file_extension": ".py",
   "mimetype": "text/x-python",
   "name": "python",
   "nbconvert_exporter": "python",
   "pygments_lexer": "ipython3",
   "version": "3.12.1"
  }
 },
 "nbformat": 4,
 "nbformat_minor": 2
}
