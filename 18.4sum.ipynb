{
 "cells": [
  {
   "cell_type": "markdown",
   "metadata": {
    "notebookRunGroups": {
     "groupValue": "1"
    }
   },
   "source": [
    "### [18. 四数之和](https://leetcode.cn/problems/4sum/)\n",
    "\n",
    "给你一个由 `n` 个整数组成的数组 `nums` ，和一个目标值 `target`。请你找出并返回满足下述全部条件且**不重复**的四元组 `[nums[a], nums[b], nums[c], nums[d]]` （若两个四元组元素一一对应，则认为两个四元组重复）：\n",
    "\n",
    "- `0 <= a, b, c, d < n`\n",
    "- `a`、`b`、`c` 和 `d` **互不相同**\n",
    "- `nums[a] + nums[b] + nums[c] + nums[d] == target`\n",
    "\n",
    "你可以按 **任意顺序** 返回答案。\n",
    "\n",
    "#### 示例 1：\n",
    "\n",
    "**输入**：nums = [1,0,-1,0,-2,2], target = 0  \n",
    "**输出**：[[ -2,-1,1,2 ],[ -2,0,0,2 ],[ -1,0,0,1 ]]\n",
    "\n",
    "#### 示例 2：\n",
    "\n",
    "**输入**：nums = [2,2,2,2,2], target = 8  \n",
    "**输出**：[[ 2,2,2,2 ]]\n",
    "\n",
    "#### 提示：\n",
    "\n",
    "- `1 <= nums.length <= 200`\n",
    "- `-10^9 <= nums[i] <= 10^9`\n",
    "- `-10^9 <= target <= 10^9`\n"
   ]
  },
  {
   "cell_type": "markdown",
   "metadata": {},
   "source": [
    "## 解题\n",
    "\n",
    "和三数之和类似：三数之和是固定第一个数，然后两个数用n，n-1和i+1这种，总体是n^2的复杂度\n",
    "\n",
    "这里可以固定前两个数，后两个数和三数和类似，整体的复杂度是n^3\n",
    "\n",
    "先试试，如果时间超了再考虑"
   ]
  },
  {
   "cell_type": "code",
   "execution_count": 14,
   "metadata": {},
   "outputs": [],
   "source": [
    "from typing import List\n",
    "\n",
    "\n",
    "class Solution:\n",
    "    def fourSum(self, nums: List[int], target: int) -> List[List[int]]:\n",
    "        n=len(nums)\n",
    "        nums.sort()\n",
    "        ans = []\n",
    "        for one in range(n-3):\n",
    "            if nums[one] > target:\n",
    "                break\n",
    "            if one > 0 and nums[one] == nums[one-1]:\n",
    "                continue\n",
    "            for two in range(one+1, n-2):\n",
    "                if nums[one]+nums[two] > target:\n",
    "                    break\n",
    "                if two > one+1 and nums[two] == nums[two-1]:\n",
    "                    continue\n",
    "                four = n-1\n",
    "                for three in range(two+1, n-1):\n",
    "                    if nums[one]+nums[two]+nums[three] > target:\n",
    "                        break\n",
    "                    if three > two+1 and nums[three] == nums[three-1]:\n",
    "                        continue\n",
    "                    while nums[one]+nums[two]+nums[three]+nums[four] > target and four>three:\n",
    "                        four -= 1\n",
    "                    if four <= three:\n",
    "                        break\n",
    "                    if nums[one]+nums[two]+nums[three]+nums[four] == target:\n",
    "                        ans += [[nums[one],nums[two],nums[three],nums[four]]]\n",
    "        return ans\n",
    "    \n"
   ]
  },
  {
   "cell_type": "markdown",
   "metadata": {},
   "source": [
    "## 上面的代码有问题\n",
    "问题出在 nums[one] > target上，因为如果nums[one]是小于0的，nums[two]也可能小于0，导致nums[one]+nums[two] < nums[one]\n",
    "\n",
    "解决方案之一是直接删除这部分判断，但是有没有办法保留相关判断"
   ]
  },
  {
   "cell_type": "code",
   "execution_count": 15,
   "metadata": {},
   "outputs": [],
   "source": [
    "from typing import List\n",
    "\n",
    "\n",
    "class Solution:\n",
    "    def fourSum(self, nums: List[int], target: int) -> List[List[int]]:\n",
    "        n=len(nums)\n",
    "        nums.sort()\n",
    "        ans = []\n",
    "        for one in range(n-3):\n",
    "            if one > 0 and nums[one] == nums[one-1]:\n",
    "                continue\n",
    "            for two in range(one+1, n-2):\n",
    "                if two > one+1 and nums[two] == nums[two-1]:\n",
    "                    continue\n",
    "                four = n-1\n",
    "                for three in range(two+1, n-1):\n",
    "                    if three > two+1 and nums[three] == nums[three-1]:\n",
    "                        continue\n",
    "                    while nums[one]+nums[two]+nums[three]+nums[four] > target and four>three:\n",
    "                        four -= 1\n",
    "                    if four <= three:\n",
    "                        break\n",
    "                    if nums[one]+nums[two]+nums[three]+nums[four] == target:\n",
    "                        ans += [[nums[one],nums[two],nums[three],nums[four]]]\n",
    "        return ans\n",
    "    \n"
   ]
  },
  {
   "cell_type": "markdown",
   "metadata": {},
   "source": [
    "看了一下别人的题解，他们通过计算nums[one]+nums[one+1]+nums[one+2]+nums[one+3]的方式与target对比，保留了判断项"
   ]
  },
  {
   "cell_type": "code",
   "execution_count": 16,
   "metadata": {},
   "outputs": [],
   "source": [
    "from typing import List\n",
    "\n",
    "\n",
    "class Solution:\n",
    "    def fourSum(self, nums: List[int], target: int) -> List[List[int]]:\n",
    "        n=len(nums)\n",
    "        nums.sort()\n",
    "        ans = []\n",
    "        for one in range(n-3):\n",
    "            if nums[one]+nums[one+1]+nums[one+2]+nums[one+3] > target:\n",
    "                break\n",
    "            if one > 0 and nums[one] == nums[one-1]:\n",
    "                continue\n",
    "            for two in range(one+1, n-2):\n",
    "                if nums[one]+nums[two]+nums[two+1]+nums[two+2] > target:\n",
    "                    break\n",
    "                if two > one+1 and nums[two] == nums[two-1]:\n",
    "                    continue\n",
    "                four = n-1\n",
    "                for three in range(two+1, n-1):\n",
    "                    if nums[one]+nums[two]+nums[three]+nums[three+1] > target:\n",
    "                        break\n",
    "                    if three > two+1 and nums[three] == nums[three-1]:\n",
    "                        continue\n",
    "                    while nums[one]+nums[two]+nums[three]+nums[four] > target and four>three:\n",
    "                        four -= 1\n",
    "                    if four <= three:\n",
    "                        break\n",
    "                    if nums[one]+nums[two]+nums[three]+nums[four] == target:\n",
    "                        ans += [[nums[one],nums[two],nums[three],nums[four]]]\n",
    "        return ans\n",
    "    "
   ]
  },
  {
   "cell_type": "markdown",
   "metadata": {},
   "source": [
    "官方题解中还有这么一项\n",
    "```\n",
    "if nums[i] + nums[length - 3] + nums[length - 2] + nums[length - 1] < target:\n",
    "    continue\n",
    "```\n",
    "表示的是，当前的i太小，剩下的所有数都取最大的也不能满足要求，换下一个"
   ]
  },
  {
   "cell_type": "code",
   "execution_count": 17,
   "metadata": {
    "notebookRunGroups": {
     "groupValue": "1"
    }
   },
   "outputs": [],
   "source": [
    "nums = [1,0,-1,0,-2,2]\n",
    "target = 0"
   ]
  },
  {
   "cell_type": "code",
   "execution_count": 18,
   "metadata": {
    "notebookRunGroups": {
     "groupValue": "2"
    }
   },
   "outputs": [],
   "source": [
    "nums = [1,-2,-5,-4,-3,3,3,5]\n",
    "target = -11"
   ]
  },
  {
   "cell_type": "code",
   "execution_count": 19,
   "metadata": {},
   "outputs": [
    {
     "name": "stdout",
     "output_type": "stream",
     "text": [
      "[[-5, -4, -3, 1]]\n"
     ]
    }
   ],
   "source": [
    "print(Solution().fourSum(nums,target))"
   ]
  }
 ],
 "metadata": {
  "kernelspec": {
   "display_name": "Python 3",
   "language": "python",
   "name": "python3"
  },
  "language_info": {
   "codemirror_mode": {
    "name": "ipython",
    "version": 3
   },
   "file_extension": ".py",
   "mimetype": "text/x-python",
   "name": "python",
   "nbconvert_exporter": "python",
   "pygments_lexer": "ipython3",
   "version": "3.12.1"
  }
 },
 "nbformat": 4,
 "nbformat_minor": 2
}
