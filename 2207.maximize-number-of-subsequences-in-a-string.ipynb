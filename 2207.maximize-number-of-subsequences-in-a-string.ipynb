{
 "cells": [
  {
   "cell_type": "markdown",
   "metadata": {},
   "source": [
    "### [2207. 字符串中最多数目的子序列](https://leetcode.com/problems/maximize-number-of-subsequences-in-a-string/)\n",
    "\n",
    "给你一个下标从 **0** 开始的字符串 `text` 和另一个下标从 **0** 开始且长度为 `2` 的字符串 `pattern`，两者都只包含小写英文字母。\n",
    "\n",
    "你可以在 `text` 中任意位置插入 **一个** 字符，这个插入的字符必须是 `pattern[0]` 或者 `pattern[1]`。注意，这个字符可以插入在 `text` 开头或者结尾的位置。\n",
    "\n",
    "请你返回插入一个字符后，`text` 中最多包含多少个等于 `pattern` 的 **子序列**。\n",
    "\n",
    "**子序列** 指的是将一个字符串删除若干个字符后（也可以不删除），剩余字符保持原本顺序得到的字符串。\n",
    "\n",
    "#### 示例 1：\n",
    "\n",
    "**输入：** text = \"abdcdbc\", pattern = \"ac\"  \n",
    "**输出：** 4  \n",
    "**解释：**  \n",
    "如果我们在 text[1] 和 text[2] 之间添加 pattern[0] = 'a'，那么我们得到 \"ab**a**dcdbc\"。那么 \"ac\" 作为子序列出现 4 次。  \n",
    "其他得到 4 个 \"ac\" 子序列的方案还有 \"**a**abdcdbc\" 和 \"abd**a**cdbc\"。  \n",
    "但是，\"abdc**a**dbc\"，\"abd**c**cdbc\" 和 \"abdcdbc**c**\" 这些字符串虽然是可行的插入方案，但是只出现了 3 次 \"ac\" 子序列，所以不是最优解。  \n",
    "可以证明插入一个字符后，无法得到超过 4 个 \"ac\" 子序列。\n",
    "\n",
    "#### 示例 2：\n",
    "\n",
    "**输入：** text = \"aabb\", pattern = \"ab\"  \n",
    "**输出：** 6  \n",
    "**解释：**  \n",
    "可以得到 6 个 \"ab\" 子序列的部分方案为 \"**a**aabb\"，\"aa**a**bb\" 和 \"aab**b**b\"。\n",
    "\n",
    "#### 提示：\n",
    "\n",
    "- `1 <= text.length <= 10^5`\n",
    "- `pattern.length == 2`\n",
    "- `text` 和 `pattern` 都只包含小写英文字母。\n"
   ]
  },
  {
   "cell_type": "markdown",
   "metadata": {},
   "source": [
    "### 理解题目\n",
    "\n",
    "看示例，子序列的意思是指，组合成`pattern`的字符在原本的`text`中就是按pattern的顺序的，而且一个组合只能使用一次\n",
    "\n",
    "#### 特殊情况\n",
    "pattern中两个字符相同。统计text中有n个该字符C^2_n+1即可\n",
    "\n",
    "当字符不同时，就先算text中有几个pattern[0]和pattrn[1]，然后算出text中的子序列数n\n",
    "n+max(num0,num1)即可\n",
    "\n",
    "#### 计算原text中子序列数目\n",
    "这应该算是一个难点？\n",
    "遍历一次text\n",
    "遍历过程中，每次判断text[k] == pattern[0]\n",
    "如果相等，则num0 += 1，\n",
    "否则判断text[k] == pattern[1]\n",
    "如果相等，则num1 += 1，\n",
    "ans += num0"
   ]
  },
  {
   "cell_type": "code",
   "execution_count": 5,
   "metadata": {},
   "outputs": [],
   "source": [
    "class Solution:\n",
    "    def maximumSubsequenceCount(self, text: str, pattern: str) -> int:\n",
    "        if pattern[0] == pattern[1]:\n",
    "            numchar = 0\n",
    "            ans = 0\n",
    "            for char in text:\n",
    "                if char == pattern[0]:\n",
    "                    ans += numchar\n",
    "                    numchar += 1\n",
    "            ans += numchar\n",
    "        else:\n",
    "            num0 = 0\n",
    "            num1 = 0\n",
    "            ans = 0\n",
    "            for char in text:\n",
    "                if char == pattern[0]:\n",
    "                    num0 += 1\n",
    "                elif char == pattern[1]:\n",
    "                    num1 += 1\n",
    "                    ans += num0\n",
    "            ans += max(num0, num1)\n",
    "\n",
    "        return ans"
   ]
  },
  {
   "cell_type": "code",
   "execution_count": 6,
   "metadata": {},
   "outputs": [],
   "source": [
    "text = \"aabb\"\n",
    "pattern = \"ab\""
   ]
  },
  {
   "cell_type": "code",
   "execution_count": 7,
   "metadata": {},
   "outputs": [
    {
     "name": "stdout",
     "output_type": "stream",
     "text": [
      "6\n"
     ]
    }
   ],
   "source": [
    "print(Solution().maximumSubsequenceCount(text, pattern))"
   ]
  },
  {
   "cell_type": "markdown",
   "metadata": {},
   "source": [
    "两次通过，只是占用的内存略多"
   ]
  }
 ],
 "metadata": {
  "kernelspec": {
   "display_name": "Python 3",
   "language": "python",
   "name": "python3"
  },
  "language_info": {
   "codemirror_mode": {
    "name": "ipython",
    "version": 3
   },
   "file_extension": ".py",
   "mimetype": "text/x-python",
   "name": "python",
   "nbconvert_exporter": "python",
   "pygments_lexer": "ipython3",
   "version": "3.12.1"
  }
 },
 "nbformat": 4,
 "nbformat_minor": 2
}
